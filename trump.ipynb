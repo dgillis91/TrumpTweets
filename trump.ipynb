{
 "cells": [
  {
   "cell_type": "code",
   "execution_count": 1,
   "metadata": {},
   "outputs": [],
   "source": [
    "import os\n",
    "import re\n",
    "import random\n",
    "import json\n",
    "from typing import List\n",
    "\n",
    "\n",
    "import numpy as np\n",
    "import tensorflow as tf\n",
    "\n",
    "tf.enable_eager_execution()\n",
    "config = tf.ConfigProto()\n",
    "config.gpu_options.allow_growth = True\n",
    "session = tf.InteractiveSession(config=config)\n",
    "\n",
    "from tensorflow.keras.preprocessing.sequence import pad_sequences\n",
    "from tensorflow.keras.preprocessing.text import Tokenizer"
   ]
  },
  {
   "cell_type": "code",
   "execution_count": 2,
   "metadata": {},
   "outputs": [],
   "source": [
    "def make_filter_function(min_year: int, allow_retweets: bool):\n",
    "    def include_function(record: dict):\n",
    "        retweeted = record['retweeted']\n",
    "        year = int(record['created_at'][-4:])\n",
    "        if retweeted == allow_retweets and year >= min_year:\n",
    "            return True\n",
    "        else:\n",
    "            return False\n",
    "    return include_function\n",
    "\n",
    "\n",
    "def get_tweets(filepath: str, filter_function, return_text_only=True):\n",
    "    tweet_list = list()\n",
    "    with open(filepath, 'r') as tweets:\n",
    "        for tweet in tweets:\n",
    "            tweet_record = json.loads(tweet)\n",
    "            if filter_function(tweet_record):\n",
    "                if return_text_only:\n",
    "                    tweet_list.append(tweet_record['text'])\n",
    "                else:\n",
    "                    tweet_list.append(tweet_record)\n",
    "    return tweet_list\n",
    "\n",
    "\n",
    "include_lambda = make_filter_function(min_year=2015, allow_retweets=False)\n",
    "TWEET_PATH = 'trump_tweets.json'\n",
    "tweet_data = get_tweets(filepath=TWEET_PATH, filter_function=include_lambda, return_text_only=True)"
   ]
  },
  {
   "cell_type": "code",
   "execution_count": 3,
   "metadata": {},
   "outputs": [
    {
     "data": {
      "text/plain": [
       "['\"@JaayZen: @realDonaldTrump Thanks Donald. Now run for president! Fulfill your purpose! \"To much is given, much is required\"',\n",
       " '\"@teamconquerca: First time in the\"Trump International Hotel and Tower\" and it\\'s absolutely gorgeous!! Thank-You sir! Excellent hospitality',\n",
       " '\"@AngelaTN777: @gochico @realDonaldTrump: He STANDS UP for what he believes in!! regardless if all people like it. #Hasmyrespect&amp;Vote\"',\n",
       " '\"@JaayZen: @grandmiapens He has all the ingredients to get elected and turn this this ship around! Run! Don\\'t let us hit the iceberg!\"',\n",
       " '\"@MarcAardvark: @realDonaldTrump @ronmeier123 One of the best things I bought in 2014: @realDonaldTrump ties @Macys @amazon\"',\n",
       " '\"@PaulParmar1: @realDonaldTrump so excited for @ApprenticeNBC thank you for creating such an amazing show #CelebApprentice\" Enjoy it, thanks',\n",
       " '\"@ryanbushby: @realDonaldTrump i bet you have some great ideas on how to turn this country around\"  I do, big league!',\n",
       " '\"@LLAnkers: DonaldTrump,  it\\'s a shame the left try so hard to tear you down. You could be a great leader for our nation. Keep it up Trump!',\n",
       " '\"@flicka__: @realDonaldTrump for president\"',\n",
       " 'The Mar-a-Lago Club was amazing tonight. Everybody was there, the biggest and the hottest. Palm Beach is so lucky to have best club in world']"
      ]
     },
     "execution_count": 3,
     "metadata": {},
     "output_type": "execute_result"
    }
   ],
   "source": [
    "tweet_data[:10]"
   ]
  },
  {
   "cell_type": "code",
   "execution_count": 4,
   "metadata": {},
   "outputs": [],
   "source": [
    "# Remove URLs\n",
    "tweet_data = [\n",
    "    re.sub('http\\S+', '', tweet, flags=re.MULTILINE)\n",
    "    for tweet in tweet_data\n",
    "]"
   ]
  },
  {
   "cell_type": "code",
   "execution_count": 5,
   "metadata": {},
   "outputs": [
    {
     "data": {
      "text/plain": [
       "['\"@JaayZen: @realDonaldTrump Thanks Donald. Now run for president! Fulfill your purpose! \"To much is given, much is required\"',\n",
       " '\"@teamconquerca: First time in the\"Trump International Hotel and Tower\" and it\\'s absolutely gorgeous!! Thank-You sir! Excellent hospitality',\n",
       " '\"@AngelaTN777: @gochico @realDonaldTrump: He STANDS UP for what he believes in!! regardless if all people like it. #Hasmyrespect&amp;Vote\"',\n",
       " '\"@JaayZen: @grandmiapens He has all the ingredients to get elected and turn this this ship around! Run! Don\\'t let us hit the iceberg!\"',\n",
       " '\"@MarcAardvark: @realDonaldTrump @ronmeier123 One of the best things I bought in 2014: @realDonaldTrump ties @Macys @amazon\"',\n",
       " '\"@PaulParmar1: @realDonaldTrump so excited for @ApprenticeNBC thank you for creating such an amazing show #CelebApprentice\" Enjoy it, thanks',\n",
       " '\"@ryanbushby: @realDonaldTrump i bet you have some great ideas on how to turn this country around\"  I do, big league!',\n",
       " '\"@LLAnkers: DonaldTrump,  it\\'s a shame the left try so hard to tear you down. You could be a great leader for our nation. Keep it up Trump!',\n",
       " '\"@flicka__: @realDonaldTrump for president\"',\n",
       " 'The Mar-a-Lago Club was amazing tonight. Everybody was there, the biggest and the hottest. Palm Beach is so lucky to have best club in world']"
      ]
     },
     "execution_count": 5,
     "metadata": {},
     "output_type": "execute_result"
    }
   ],
   "source": [
    "tweet_data[:10]"
   ]
  },
  {
   "cell_type": "code",
   "execution_count": 6,
   "metadata": {},
   "outputs": [],
   "source": [
    "tweet_text = '\\n'.join(tweet_data)"
   ]
  },
  {
   "cell_type": "code",
   "execution_count": 7,
   "metadata": {},
   "outputs": [],
   "source": [
    "vocab = sorted(set(tweet_text))"
   ]
  },
  {
   "cell_type": "code",
   "execution_count": 8,
   "metadata": {},
   "outputs": [],
   "source": [
    "token_to_index = {u:i for i, u in enumerate(vocab)}\n",
    "index_to_token = np.array(vocab)"
   ]
  },
  {
   "cell_type": "code",
   "execution_count": 9,
   "metadata": {},
   "outputs": [
    {
     "name": "stdout",
     "output_type": "stream",
     "text": [
      "[+] 566 Distinct Tokens in The Donald's tweets\n"
     ]
    }
   ],
   "source": [
    "word_count = len(index_to_token)\n",
    "print(\n",
    "  f'[+] {word_count} Distinct Tokens in The Donald\\'s tweets'\n",
    ")"
   ]
  },
  {
   "cell_type": "code",
   "execution_count": 10,
   "metadata": {},
   "outputs": [
    {
     "name": "stdout",
     "output_type": "stream",
     "text": [
      "[+] Token to Index:\n",
      "{\n",
      "\t\n",
      ": 0\n",
      "\t : 1\n",
      "\t!: 2\n",
      "\t\": 3\n",
      "\t#: 4\n",
      "\t$: 5\n",
      "\t%: 6\n",
      "\t&: 7\n",
      "\t': 8\n",
      "\t(: 9\n",
      "\t): 10\n",
      "\t*: 11\n",
      "\t+: 12\n",
      "\t,: 13\n",
      "\t-: 14\n",
      "\t.: 15\n",
      "\t/: 16\n",
      "\t0: 17\n",
      "\t1: 18\n",
      "\t2: 19\n",
      "...\n",
      "}\n",
      "[+] Index to Token:\n",
      "['\\n' ' ' '!' '\"' '#' '$' '%' '&' \"'\" '(' ')' '*' '+' ',' '-' '.' '/' '0'\n",
      " '1' '2' '3' '4' '5' '6' '7' '8' '9' ':' ';' '=' '?' '@' 'A' 'B' 'C' 'D'\n",
      " 'E' 'F' 'G' 'H' 'I' 'J' 'K' 'L' 'M' 'N' 'O' 'P' 'Q' 'R' 'S' 'T' 'U' 'V'\n",
      " 'W' 'X' 'Y' 'Z' '[' '\\\\' ']' '_' '`' 'a' 'b' 'c' 'd' 'e' 'f' 'g' 'h' 'i'\n",
      " 'j' 'k' 'l' 'm' 'n' 'o' 'p' 'q' 'r' 's' 't' 'u' 'v' 'w' 'x' 'y' 'z' '{'\n",
      " '|' '}' '~' '\\xa0' '«' '¯' '´' '»' 'É' 'á' 'â' 'è' 'é' 'í' 'ï' 'ñ' 'ó'\n",
      " 'ô' 'ø' 'ú' 'ğ' 'ı' 'ĺ' 'ō' 'ד' 'ז' 'ח' 'י' 'ם' 'מ' 'ק' 'ת' 'ا' 'ب' 'ت'\n",
      " 'ج' 'د' 'ر' 'س' 'ش' 'ط' 'ف' 'ق' 'ل' 'م' 'ن' 'ه' 'و' 'چ' 'ژ' 'ک' 'ی' '۰'\n",
      " '۴' 'ễ' '\\u200b' '\\u200d' '–' '—' '―' '‘' '’' '“' '”' '•' '…' '′' '‼'\n",
      " '\\u2066' '\\u2069' '↔' '●' '☀' '☁' '☆' '☉' '☑' '☘' '☞' '☹' '☺' '♂' '♡' '♥'\n",
      " '⚠' '⚡' '⚾' '✅' '✈' '✌' '✔' '✨' '❌' '❤' '➜' '➡' '⬅' '⬇' '、' '。' '々' '《'\n",
      " '「' '」' '【' '】' 'あ' 'い' 'う' 'え' 'お' 'か' 'が' 'き' 'ぎ' 'く' 'け' 'げ' 'こ' 'ご'\n",
      " 'さ' 'ざ' 'し' 'じ' 'す' 'せ' 'そ' 'た' 'だ' 'っ' 'つ' 'て' 'で' 'と' 'な' 'に' 'の' 'は'\n",
      " 'へ' 'ま' 'み' 'め' 'も' 'や' 'よ' 'ら' 'り' 'る' 'れ' 'を' 'ア' 'ィ' 'イ' 'ゴ' 'サ' 'ジ'\n",
      " 'ス' 'セ' 'ゼ' 'ダ' 'チ' 'ッ' 'ツ' 'デ' 'ト' 'ド' 'ナ' 'ニ' 'フ' 'プ' 'ベ' 'ミ' 'メ' 'モ'\n",
      " 'ラ' 'リ' 'ル' 'ロ' 'ン' 'ー' '一' '三' '上' '下' '世' '両' '人' '今' '代' '令' '以' '会'\n",
      " '倍' '共' '典' '出' '初' '到' '功' '励' '勢' '北' '千' '半' '印' '取' '史' '同' '后' '向'\n",
      " '和' '問' '善' '国' '夕' '大' '天' '太' '夫' '安' '密' '対' '尽' '居' '席' '常' '幕' '平'\n",
      " '式' '当' '応' '情' '成' '投' '拉' '揃' '揺' '携' '新' '日' '早' '昨' '時' '更' '最' '朝'\n",
      " '本' '来' '様' '標' '機' '歓' '歴' '洋' '活' '海' '済' '激' '点' '理' '由' '界' '的' '皇'\n",
      " '盟' '目' '相' '着' '示' '祈' '稿' '米' '絆' '経' '統' '続' '緊' '総' '考' '脳' '臨' '自'\n",
      " '至' '致' '艦' '葉' '行' '衛' '要' '見' '訪' '話' '認' '課' '談' '識' '護' '費' '賓' '軍'\n",
      " '迎' '通' '速' '連' '過' '違' '重' '開' '間' '阪' '陛' '隊' '非' '領' '題' '食' '首' '鮮'\n",
      " '고' '국' '는' '대' '라' '렛' '리' '며' '모' '미' '바' '받' '보' '북' '브' '상' '서' '소'\n",
      " '습' '에' '오' '울' '을' '의' '쟁' '전' '정' '초' '측' '핑' '하' '한' '화' '️' '！' '０'\n",
      " '２' 'Ｇ' '🇦' '🇧' '🇨' '🇪' '🇫' '🇬' '🇭' '🇮' '🇯' '🇰' '🇱' '🇲' '🇴' '🇵' '🇷' '🇸'\n",
      " '🇹' '🇺' '🇻' '🇼' '🇽' '🌍' '🌏' '🌺' '🍑' '🎆' '🎈' '🎉' '🎥' '🎧' '🎬' '🎾' '🏁' '🏆'\n",
      " '🏈' '🏛' '🏢' '🏫' '🏻' '🏼' '🏽' '🐶' '👀' '👆' '👈' '👉' '👊' '👋' '👌' '👍' '👎' '👏'\n",
      " '👑' '👔' '👗' '👚' '👢' '👿' '💃' '💔' '💕' '💗' '💘' '💚' '💜' '💤' '💥' '💦' '💨' '💪'\n",
      " '💯' '💰' '📈' '📉' '📱' '📸' '📺' '🔅' '🔟' '🔥' '🔹' '🗽' '😁' '😂' '😃' '😄' '😅' '😆'\n",
      " '😇' '😉' '😊' '😍' '😎' '😒' '😓' '😔' '😘' '😜' '😡' '😢' '😣' '😩' '😬' '😰' '😱' '😳'\n",
      " '😴' '🙋' '🙌' '🙏' '🚀' '🚁' '🚂' '🚒' '🚤' '🚨' '🤔' '🤖' '🦃' '\\U0010fc00']\n"
     ]
    }
   ],
   "source": [
    "def pretty_print_dict(d: dict, length=20):\n",
    "    print('{')\n",
    "    for (index, (k, v)) in zip(range(length), d.items()):\n",
    "        print(f'\\t{k}: {v}')\n",
    "    print('...')\n",
    "    print('}')\n",
    "\n",
    "print('[+] Token to Index:')\n",
    "pretty_print_dict(token_to_index, 20)\n",
    "print(f'[+] Index to Token:')\n",
    "print(index_to_token)"
   ]
  },
  {
   "cell_type": "code",
   "execution_count": 11,
   "metadata": {},
   "outputs": [],
   "source": [
    "text_as_int = np.array([token_to_index[c] for c in tweet_text])"
   ]
  },
  {
   "cell_type": "code",
   "execution_count": 12,
   "metadata": {},
   "outputs": [
    {
     "name": "stdout",
     "output_type": "stream",
     "text": [
      "First 5 Tokens:\n",
      "WARNING:tensorflow:From /home/das-hund/.conda/envs/notebook/lib/python3.7/site-packages/tensorflow/python/data/ops/iterator_ops.py:532: colocate_with (from tensorflow.python.framework.ops) is deprecated and will be removed in a future version.\n",
      "Instructions for updating:\n",
      "Colocations handled automatically by placer.\n",
      "\"\n",
      "@\n",
      "J\n",
      "a\n",
      "a\n"
     ]
    }
   ],
   "source": [
    "# Here we are just getting the really long sequence into\n",
    "# tf.Dataset object. \n",
    "SEQUENCE_LENGTH = 140\n",
    "examples_per_epoch = len(tweet_text) // SEQUENCE_LENGTH\n",
    "\n",
    "sequence_dataset = tf.data.Dataset.from_tensor_slices(text_as_int)\n",
    "print('First 5 Tokens:')\n",
    "for i in sequence_dataset.take(5):\n",
    "    print(index_to_token[i.numpy()])"
   ]
  },
  {
   "cell_type": "code",
   "execution_count": 13,
   "metadata": {},
   "outputs": [
    {
     "name": "stdout",
     "output_type": "stream",
     "text": [
      "'\"@JaayZen: @realDonaldTrump Thanks Donald. Now run for president! Fulfill your purpose! \"To much is given, much is required\"\\n\"@teamconquerca:'\n",
      "' First time in the\"Trump International Hotel and Tower\" and it\\'s absolutely gorgeous!! Thank-You sir! Excellent hospitality\\n\"@AngelaTN777: @g'\n",
      "'ochico @realDonaldTrump: He STANDS UP for what he believes in!! regardless if all people like it. #Hasmyrespect&amp;Vote\"\\n\"@JaayZen: @grandmi'\n",
      "'apens He has all the ingredients to get elected and turn this this ship around! Run! Don\\'t let us hit the iceberg!\"\\n\"@MarcAardvark: @realDona'\n",
      "'ldTrump @ronmeier123 One of the best things I bought in 2014: @realDonaldTrump ties @Macys @amazon\"\\n\"@PaulParmar1: @realDonaldTrump so excite'\n"
     ]
    }
   ],
   "source": [
    "sequences = sequence_dataset.batch(SEQUENCE_LENGTH + 1, drop_remainder=True)\n",
    "\n",
    "\n",
    "for item in sequences.take(5):\n",
    "    print(repr(''.join(index_to_token[item.numpy()])))"
   ]
  },
  {
   "cell_type": "code",
   "execution_count": 14,
   "metadata": {},
   "outputs": [],
   "source": [
    "def split_input_target(chunk):\n",
    "    input_text = chunk[:-1]\n",
    "    target_text = chunk[1:]\n",
    "    return input_text, target_text\n",
    "\n",
    "dataset = sequences.map(split_input_target)"
   ]
  },
  {
   "cell_type": "code",
   "execution_count": 15,
   "metadata": {},
   "outputs": [
    {
     "name": "stdout",
     "output_type": "stream",
     "text": [
      "Input data:  '\"@JaayZen: @realDonaldTrump Thanks Donald. Now run for president! Fulfill your purpose! \"To much is given, much is required\"\\n\"@teamconquerca'\n",
      "Target data: '@JaayZen: @realDonaldTrump Thanks Donald. Now run for president! Fulfill your purpose! \"To much is given, much is required\"\\n\"@teamconquerca:'\n"
     ]
    }
   ],
   "source": [
    "for input_example, target_example in dataset.take(1):\n",
    "    print('Input data: ', repr(''.join(index_to_token[input_example.numpy()])))\n",
    "    print('Target data:', repr(''.join(index_to_token[target_example.numpy()])))"
   ]
  },
  {
   "cell_type": "code",
   "execution_count": 16,
   "metadata": {},
   "outputs": [
    {
     "name": "stdout",
     "output_type": "stream",
     "text": [
      "[+] Examples Per Epoch: 15897\n",
      "[+] Steps Per Epoch: 248\n",
      "[+] Batch Size: 64\n"
     ]
    },
    {
     "data": {
      "text/plain": [
       "<DatasetV1Adapter shapes: ((64, 140), (64, 140)), types: (tf.int64, tf.int64)>"
      ]
     },
     "execution_count": 16,
     "metadata": {},
     "output_type": "execute_result"
    }
   ],
   "source": [
    "BATCH_SIZE = 64\n",
    "steps_per_epoch = examples_per_epoch // BATCH_SIZE\n",
    "\n",
    "dataset = dataset.shuffle(buffer_size=10000).batch(\n",
    "    batch_size=BATCH_SIZE, drop_remainder=True\n",
    ")\n",
    "\n",
    "print(f'[+] Examples Per Epoch: {examples_per_epoch}')\n",
    "print(f'[+] Steps Per Epoch: {steps_per_epoch}')\n",
    "print(f'[+] Batch Size: {BATCH_SIZE}')\n",
    "dataset"
   ]
  },
  {
   "cell_type": "code",
   "execution_count": 17,
   "metadata": {},
   "outputs": [],
   "source": [
    "RNN_UNITS = 1024\n",
    "EMBEDDING_DIM = 256"
   ]
  },
  {
   "cell_type": "code",
   "execution_count": 18,
   "metadata": {},
   "outputs": [],
   "source": [
    "# We are using the Keras stateful LSTM. With the statefull\n",
    "# LSTM, the the last state for each sample at index i in a \n",
    "# batch will be used as initial state for the sample of\n",
    "# index i in the following batch.\n",
    "def build_model(vocab_size: int, embed_dim: int, \n",
    "                rnn_units: int, batch_size: int):\n",
    "    model = tf.keras.Sequential()\n",
    "    model.add(tf.keras.layers.Embedding(\n",
    "        vocab_size, embed_dim,\n",
    "        batch_input_shape=[batch_size, None],\n",
    "        name='embedding'\n",
    "    ))\n",
    "    model.add(tf.keras.layers.CuDNNLSTM(\n",
    "        rnn_units, return_sequences=True,\n",
    "        recurrent_initializer='glorot_uniform',\n",
    "        stateful=True, name='lstm_one'\n",
    "    ))\n",
    "    model.add(tf.keras.layers.CuDNNLSTM(\n",
    "        rnn_units, return_sequences=True,\n",
    "        recurrent_initializer='glorot_uniform',\n",
    "        stateful=True, name='lstm_two'\n",
    "    ))\n",
    "    model.add(tf.keras.layers.Dense(\n",
    "        vocab_size, name='dense_out'\n",
    "    ))\n",
    "    return model"
   ]
  },
  {
   "cell_type": "code",
   "execution_count": 19,
   "metadata": {},
   "outputs": [],
   "source": [
    "model = build_model(\n",
    "  vocab_size=word_count,\n",
    "  embed_dim=EMBEDDING_DIM, rnn_units=RNN_UNITS, \n",
    "  batch_size=BATCH_SIZE\n",
    ")"
   ]
  },
  {
   "cell_type": "code",
   "execution_count": 20,
   "metadata": {},
   "outputs": [
    {
     "name": "stdout",
     "output_type": "stream",
     "text": [
      "_________________________________________________________________\n",
      "Layer (type)                 Output Shape              Param #   \n",
      "=================================================================\n",
      "embedding (Embedding)        (64, None, 256)           144896    \n",
      "_________________________________________________________________\n",
      "lstm_one (CuDNNLSTM)         (64, None, 1024)          5251072   \n",
      "_________________________________________________________________\n",
      "lstm_two (CuDNNLSTM)         (64, None, 1024)          8396800   \n",
      "_________________________________________________________________\n",
      "dense_out (Dense)            (64, None, 566)           580150    \n",
      "=================================================================\n",
      "Total params: 14,372,918\n",
      "Trainable params: 14,372,918\n",
      "Non-trainable params: 0\n",
      "_________________________________________________________________\n"
     ]
    }
   ],
   "source": [
    "model.summary()"
   ]
  },
  {
   "cell_type": "code",
   "execution_count": 21,
   "metadata": {
    "scrolled": false
   },
   "outputs": [
    {
     "name": "stdout",
     "output_type": "stream",
     "text": [
      "(64, 140, 566) # (batch_size, sequence_length, vocab_size)\n"
     ]
    }
   ],
   "source": [
    "for input_example_batch, target_example_batch in dataset.take(1):\n",
    "    example_batch_predictions = model(input_example_batch)\n",
    "    print(example_batch_predictions.shape, \"# (batch_size, sequence_length, vocab_size)\")"
   ]
  },
  {
   "cell_type": "code",
   "execution_count": 22,
   "metadata": {},
   "outputs": [],
   "source": [
    "sampled_indices = tf.random.categorical(example_batch_predictions[0], num_samples=1)\n",
    "sampled_indices = tf.squeeze(sampled_indices,axis=-1).numpy()"
   ]
  },
  {
   "cell_type": "code",
   "execution_count": 23,
   "metadata": {},
   "outputs": [
    {
     "data": {
      "text/plain": [
       "array([467, 126, 402, 232, 224, 200, 476, 342, 294, 394,  75, 241, 260,\n",
       "       386, 120, 222,  98, 559, 421, 281, 157, 514, 153, 457, 241,  94,\n",
       "       531,  59,  78, 466, 323, 327, 206,  64, 127,  52, 451, 479, 427,\n",
       "       329,   5, 174,  61, 334, 558, 466,  21, 207, 337, 100, 302,  32,\n",
       "       388,  51, 388, 277, 558, 259, 230, 564, 546, 133, 415, 426, 194,\n",
       "       474, 556,  47,  28, 502, 264, 247, 268, 250, 231, 322, 126, 353,\n",
       "        40, 115,   7,   6, 181, 443, 104, 255, 468,  41, 349, 559, 431,\n",
       "       301, 266, 457, 104, 296, 268, 336, 104, 136, 184,  68, 255, 382,\n",
       "       489, 339, 113, 562, 405, 265, 189,  82, 516, 546, 156, 258, 520,\n",
       "       417, 230,  39, 359, 269, 556, 411,   0, 294, 297, 501, 154, 494,\n",
       "       287, 268, 526, 167, 183,  79, 461, 120,  62, 428])"
      ]
     },
     "execution_count": 23,
     "metadata": {},
     "output_type": "execute_result"
    }
   ],
   "source": [
    "sampled_indices"
   ]
  },
  {
   "cell_type": "code",
   "execution_count": 24,
   "metadata": {},
   "outputs": [],
   "source": [
    "def loss(labels, logits):\n",
    "    return tf.keras.losses.sparse_categorical_crossentropy(\n",
    "        labels, logits, from_logits=True\n",
    "    )\n",
    "\n",
    "model.compile(\n",
    "    optimizer=tf.train.AdamOptimizer(),\n",
    "    loss=loss\n",
    ")"
   ]
  },
  {
   "cell_type": "code",
   "execution_count": 25,
   "metadata": {},
   "outputs": [],
   "source": [
    "# TODO: Add ReduceLROnPlateau\n",
    "# TODO: Add early stopping.\n",
    "# Directory where the checkpoints will be saved\n",
    "checkpoint_dir = './training_checkpoints'\n",
    "# Name of the checkpoint files\n",
    "checkpoint_prefix = os.path.join(\n",
    "    checkpoint_dir, 'rnnlm.weights.kla.hdf5'\n",
    ")\n",
    "\n",
    "checkpoint_callback = tf.keras.callbacks.ModelCheckpoint(\n",
    "    filepath=checkpoint_prefix,\n",
    "    save_weights_only=True,\n",
    "    monitor='loss',\n",
    "    verbose=1, save_best_only=True, \n",
    "    mode='min'\n",
    ")"
   ]
  },
  {
   "cell_type": "code",
   "execution_count": 26,
   "metadata": {
    "scrolled": false
   },
   "outputs": [
    {
     "name": "stdout",
     "output_type": "stream",
     "text": [
      "Epoch 1/44\n",
      "247/248 [============================>.] - ETA: 0s - loss: 2.9142\n",
      "Epoch 00001: loss improved from inf to 2.91131, saving model to ./training_checkpoints/rnnlm.weights.kla.hdf5\n",
      "248/248 [==============================] - 37s 149ms/step - loss: 2.9113\n",
      "Epoch 2/44\n",
      "247/248 [============================>.] - ETA: 0s - loss: 1.9430\n",
      "Epoch 00002: loss improved from 2.91131 to 1.94215, saving model to ./training_checkpoints/rnnlm.weights.kla.hdf5\n",
      "248/248 [==============================] - 36s 144ms/step - loss: 1.9422\n",
      "Epoch 3/44\n",
      "247/248 [============================>.] - ETA: 0s - loss: 1.6021\n",
      "Epoch 00003: loss improved from 1.94215 to 1.60166, saving model to ./training_checkpoints/rnnlm.weights.kla.hdf5\n",
      "248/248 [==============================] - 36s 144ms/step - loss: 1.6017\n",
      "Epoch 4/44\n",
      "247/248 [============================>.] - ETA: 0s - loss: 1.4533\n",
      "Epoch 00004: loss improved from 1.60166 to 1.45308, saving model to ./training_checkpoints/rnnlm.weights.kla.hdf5\n",
      "248/248 [==============================] - 36s 145ms/step - loss: 1.4531\n",
      "Epoch 5/44\n",
      "247/248 [============================>.] - ETA: 0s - loss: 1.3674\n",
      "Epoch 00005: loss improved from 1.45308 to 1.36725, saving model to ./training_checkpoints/rnnlm.weights.kla.hdf5\n",
      "248/248 [==============================] - 36s 145ms/step - loss: 1.3672\n",
      "Epoch 6/44\n",
      "247/248 [============================>.] - ETA: 0s - loss: 1.3066\n",
      "Epoch 00006: loss improved from 1.36725 to 1.30651, saving model to ./training_checkpoints/rnnlm.weights.kla.hdf5\n",
      "248/248 [==============================] - 36s 145ms/step - loss: 1.3065\n",
      "Epoch 7/44\n",
      "247/248 [============================>.] - ETA: 0s - loss: 1.2566\n",
      "Epoch 00007: loss improved from 1.30651 to 1.25647, saving model to ./training_checkpoints/rnnlm.weights.kla.hdf5\n",
      "248/248 [==============================] - 36s 145ms/step - loss: 1.2565\n",
      "Epoch 8/44\n",
      "247/248 [============================>.] - ETA: 0s - loss: 1.2132\n",
      "Epoch 00008: loss improved from 1.25647 to 1.21290, saving model to ./training_checkpoints/rnnlm.weights.kla.hdf5\n",
      "248/248 [==============================] - 36s 145ms/step - loss: 1.2129\n",
      "Epoch 9/44\n",
      "247/248 [============================>.] - ETA: 0s - loss: 1.1767\n",
      "Epoch 00009: loss improved from 1.21290 to 1.17665, saving model to ./training_checkpoints/rnnlm.weights.kla.hdf5\n",
      "248/248 [==============================] - 36s 146ms/step - loss: 1.1767\n",
      "Epoch 10/44\n",
      "247/248 [============================>.] - ETA: 0s - loss: 1.1406\n",
      "Epoch 00010: loss improved from 1.17665 to 1.14061, saving model to ./training_checkpoints/rnnlm.weights.kla.hdf5\n",
      "248/248 [==============================] - 36s 145ms/step - loss: 1.1406\n",
      "Epoch 11/44\n",
      "247/248 [============================>.] - ETA: 0s - loss: 1.1067\n",
      "Epoch 00011: loss improved from 1.14061 to 1.10651, saving model to ./training_checkpoints/rnnlm.weights.kla.hdf5\n",
      "248/248 [==============================] - 36s 145ms/step - loss: 1.1065\n",
      "Epoch 12/44\n",
      "247/248 [============================>.] - ETA: 0s - loss: 1.0737\n",
      "Epoch 00012: loss improved from 1.10651 to 1.07359, saving model to ./training_checkpoints/rnnlm.weights.kla.hdf5\n",
      "248/248 [==============================] - 36s 145ms/step - loss: 1.0736\n",
      "Epoch 13/44\n",
      "247/248 [============================>.] - ETA: 0s - loss: 1.0420\n",
      "Epoch 00013: loss improved from 1.07359 to 1.04166, saving model to ./training_checkpoints/rnnlm.weights.kla.hdf5\n",
      "248/248 [==============================] - 36s 146ms/step - loss: 1.0417\n",
      "Epoch 14/44\n",
      "247/248 [============================>.] - ETA: 0s - loss: 1.0110\n",
      "Epoch 00014: loss improved from 1.04166 to 1.01086, saving model to ./training_checkpoints/rnnlm.weights.kla.hdf5\n",
      "248/248 [==============================] - 36s 145ms/step - loss: 1.0109\n",
      "Epoch 15/44\n",
      "247/248 [============================>.] - ETA: 0s - loss: 0.9787\n",
      "Epoch 00015: loss improved from 1.01086 to 0.97838, saving model to ./training_checkpoints/rnnlm.weights.kla.hdf5\n",
      "248/248 [==============================] - 36s 145ms/step - loss: 0.9784\n",
      "Epoch 16/44\n",
      "247/248 [============================>.] - ETA: 0s - loss: 0.9475\n",
      "Epoch 00016: loss improved from 0.97838 to 0.94736, saving model to ./training_checkpoints/rnnlm.weights.kla.hdf5\n",
      "248/248 [==============================] - 36s 146ms/step - loss: 0.9474\n",
      "Epoch 17/44\n",
      "247/248 [============================>.] - ETA: 0s - loss: 0.9168\n",
      "Epoch 00017: loss improved from 0.94736 to 0.91679, saving model to ./training_checkpoints/rnnlm.weights.kla.hdf5\n",
      "248/248 [==============================] - 36s 146ms/step - loss: 0.9168\n",
      "Epoch 18/44\n",
      "247/248 [============================>.] - ETA: 0s - loss: 0.8871\n",
      "Epoch 00018: loss improved from 0.91679 to 0.88706, saving model to ./training_checkpoints/rnnlm.weights.kla.hdf5\n",
      "248/248 [==============================] - 36s 146ms/step - loss: 0.8871\n",
      "Epoch 19/44\n",
      "247/248 [============================>.] - ETA: 0s - loss: 0.8571\n",
      "Epoch 00019: loss improved from 0.88706 to 0.85695, saving model to ./training_checkpoints/rnnlm.weights.kla.hdf5\n",
      "248/248 [==============================] - 36s 146ms/step - loss: 0.8569\n",
      "Epoch 20/44\n",
      "247/248 [============================>.] - ETA: 0s - loss: 0.8279\n",
      "Epoch 00020: loss improved from 0.85695 to 0.82771, saving model to ./training_checkpoints/rnnlm.weights.kla.hdf5\n",
      "248/248 [==============================] - 36s 146ms/step - loss: 0.8277\n",
      "Epoch 21/44\n",
      "247/248 [============================>.] - ETA: 0s - loss: 0.8006\n",
      "Epoch 00021: loss improved from 0.82771 to 0.80037, saving model to ./training_checkpoints/rnnlm.weights.kla.hdf5\n",
      "248/248 [==============================] - 36s 146ms/step - loss: 0.8004\n",
      "Epoch 22/44\n",
      "247/248 [============================>.] - ETA: 0s - loss: 0.7716\n",
      "Epoch 00022: loss improved from 0.80037 to 0.77132, saving model to ./training_checkpoints/rnnlm.weights.kla.hdf5\n",
      "248/248 [==============================] - 36s 146ms/step - loss: 0.7713\n",
      "Epoch 23/44\n",
      "247/248 [============================>.] - ETA: 0s - loss: 0.7441\n",
      "Epoch 00023: loss improved from 0.77132 to 0.74403, saving model to ./training_checkpoints/rnnlm.weights.kla.hdf5\n",
      "248/248 [==============================] - 36s 146ms/step - loss: 0.7440\n",
      "Epoch 24/44\n",
      "247/248 [============================>.] - ETA: 0s - loss: 0.7189\n",
      "Epoch 00024: loss improved from 0.74403 to 0.71884, saving model to ./training_checkpoints/rnnlm.weights.kla.hdf5\n",
      "248/248 [==============================] - 36s 145ms/step - loss: 0.7188\n",
      "Epoch 25/44\n",
      "247/248 [============================>.] - ETA: 0s - loss: 0.6937\n",
      "Epoch 00025: loss improved from 0.71884 to 0.69351, saving model to ./training_checkpoints/rnnlm.weights.kla.hdf5\n",
      "248/248 [==============================] - 36s 146ms/step - loss: 0.6935\n",
      "Epoch 26/44\n",
      "247/248 [============================>.] - ETA: 0s - loss: 0.6692\n",
      "Epoch 00026: loss improved from 0.69351 to 0.66912, saving model to ./training_checkpoints/rnnlm.weights.kla.hdf5\n",
      "248/248 [==============================] - 36s 145ms/step - loss: 0.6691\n",
      "Epoch 27/44\n",
      "247/248 [============================>.] - ETA: 0s - loss: 0.6454\n",
      "Epoch 00027: loss improved from 0.66912 to 0.64537, saving model to ./training_checkpoints/rnnlm.weights.kla.hdf5\n",
      "248/248 [==============================] - 36s 146ms/step - loss: 0.6454\n",
      "Epoch 28/44\n",
      "247/248 [============================>.] - ETA: 0s - loss: 0.6235\n",
      "Epoch 00028: loss improved from 0.64537 to 0.62330, saving model to ./training_checkpoints/rnnlm.weights.kla.hdf5\n",
      "248/248 [==============================] - 36s 146ms/step - loss: 0.6233\n",
      "Epoch 29/44\n",
      "247/248 [============================>.] - ETA: 0s - loss: 0.6024\n",
      "Epoch 00029: loss improved from 0.62330 to 0.60221, saving model to ./training_checkpoints/rnnlm.weights.kla.hdf5\n",
      "248/248 [==============================] - 36s 146ms/step - loss: 0.6022\n",
      "Epoch 30/44\n",
      "247/248 [============================>.] - ETA: 0s - loss: 0.5826\n",
      "Epoch 00030: loss improved from 0.60221 to 0.58256, saving model to ./training_checkpoints/rnnlm.weights.kla.hdf5\n",
      "248/248 [==============================] - 36s 146ms/step - loss: 0.5826\n",
      "Epoch 31/44\n",
      "247/248 [============================>.] - ETA: 0s - loss: 0.5631\n",
      "Epoch 00031: loss improved from 0.58256 to 0.56294, saving model to ./training_checkpoints/rnnlm.weights.kla.hdf5\n",
      "248/248 [==============================] - 36s 146ms/step - loss: 0.5629\n"
     ]
    },
    {
     "name": "stdout",
     "output_type": "stream",
     "text": [
      "Epoch 32/44\n",
      "247/248 [============================>.] - ETA: 0s - loss: 0.5441\n",
      "Epoch 00032: loss improved from 0.56294 to 0.54405, saving model to ./training_checkpoints/rnnlm.weights.kla.hdf5\n",
      "248/248 [==============================] - 36s 146ms/step - loss: 0.5441\n",
      "Epoch 33/44\n",
      "247/248 [============================>.] - ETA: 0s - loss: 0.5285\n",
      "Epoch 00033: loss improved from 0.54405 to 0.52846, saving model to ./training_checkpoints/rnnlm.weights.kla.hdf5\n",
      "248/248 [==============================] - 36s 146ms/step - loss: 0.5285\n",
      "Epoch 34/44\n",
      "247/248 [============================>.] - ETA: 0s - loss: 0.5122\n",
      "Epoch 00034: loss improved from 0.52846 to 0.51208, saving model to ./training_checkpoints/rnnlm.weights.kla.hdf5\n",
      "248/248 [==============================] - 36s 146ms/step - loss: 0.5121\n",
      "Epoch 35/44\n",
      "247/248 [============================>.] - ETA: 0s - loss: 0.4972\n",
      "Epoch 00035: loss improved from 0.51208 to 0.49707, saving model to ./training_checkpoints/rnnlm.weights.kla.hdf5\n",
      "248/248 [==============================] - 36s 146ms/step - loss: 0.4971\n",
      "Epoch 36/44\n",
      "247/248 [============================>.] - ETA: 0s - loss: 0.4838\n",
      "Epoch 00036: loss improved from 0.49707 to 0.48371, saving model to ./training_checkpoints/rnnlm.weights.kla.hdf5\n",
      "248/248 [==============================] - 36s 146ms/step - loss: 0.4837\n",
      "Epoch 37/44\n",
      "247/248 [============================>.] - ETA: 0s - loss: 0.4712\n",
      "Epoch 00037: loss improved from 0.48371 to 0.47120, saving model to ./training_checkpoints/rnnlm.weights.kla.hdf5\n",
      "248/248 [==============================] - 36s 146ms/step - loss: 0.4712\n",
      "Epoch 38/44\n",
      "247/248 [============================>.] - ETA: 0s - loss: 0.4576\n",
      "Epoch 00038: loss improved from 0.47120 to 0.45752, saving model to ./training_checkpoints/rnnlm.weights.kla.hdf5\n",
      "248/248 [==============================] - 36s 146ms/step - loss: 0.4575\n",
      "Epoch 39/44\n",
      "247/248 [============================>.] - ETA: 0s - loss: 0.4477\n",
      "Epoch 00039: loss improved from 0.45752 to 0.44764, saving model to ./training_checkpoints/rnnlm.weights.kla.hdf5\n",
      "248/248 [==============================] - 36s 146ms/step - loss: 0.4476\n",
      "Epoch 40/44\n",
      "247/248 [============================>.] - ETA: 0s - loss: 0.4366\n",
      "Epoch 00040: loss improved from 0.44764 to 0.43653, saving model to ./training_checkpoints/rnnlm.weights.kla.hdf5\n",
      "248/248 [==============================] - 36s 146ms/step - loss: 0.4365\n",
      "Epoch 41/44\n",
      "247/248 [============================>.] - ETA: 0s - loss: 0.4280\n",
      "Epoch 00041: loss improved from 0.43653 to 0.42782, saving model to ./training_checkpoints/rnnlm.weights.kla.hdf5\n",
      "248/248 [==============================] - 36s 146ms/step - loss: 0.4278\n",
      "Epoch 42/44\n",
      "247/248 [============================>.] - ETA: 0s - loss: 0.4175\n",
      "Epoch 00042: loss improved from 0.42782 to 0.41749, saving model to ./training_checkpoints/rnnlm.weights.kla.hdf5\n",
      "248/248 [==============================] - 36s 146ms/step - loss: 0.4175\n",
      "Epoch 43/44\n",
      "247/248 [============================>.] - ETA: 0s - loss: 0.4095\n",
      "Epoch 00043: loss improved from 0.41749 to 0.40942, saving model to ./training_checkpoints/rnnlm.weights.kla.hdf5\n",
      "248/248 [==============================] - 36s 146ms/step - loss: 0.4094\n",
      "Epoch 44/44\n",
      "247/248 [============================>.] - ETA: 0s - loss: 0.4016\n",
      "Epoch 00044: loss improved from 0.40942 to 0.40155, saving model to ./training_checkpoints/rnnlm.weights.kla.hdf5\n",
      "248/248 [==============================] - 36s 146ms/step - loss: 0.4015\n"
     ]
    }
   ],
   "source": [
    "EPOCHS = 44\n",
    "\n",
    "FIT_MODEL = True\n",
    "\n",
    "if FIT_MODEL:\n",
    "    history = model.fit(\n",
    "        dataset.repeat(), epochs=EPOCHS, \n",
    "        steps_per_epoch=steps_per_epoch, callbacks=[checkpoint_callback]\n",
    "    )"
   ]
  },
  {
   "cell_type": "code",
   "execution_count": 27,
   "metadata": {},
   "outputs": [],
   "source": [
    "model = build_model(\n",
    "  vocab_size=word_count,\n",
    "  embed_dim=EMBEDDING_DIM, rnn_units=RNN_UNITS, \n",
    "  batch_size=1\n",
    ")\n",
    "model.load_weights(checkpoint_prefix)\n",
    "model.build(tf.TensorShape([1, None]))"
   ]
  },
  {
   "cell_type": "code",
   "execution_count": 28,
   "metadata": {},
   "outputs": [
    {
     "name": "stderr",
     "output_type": "stream",
     "text": [
      "Using TensorFlow backend.\n"
     ]
    },
    {
     "data": {
      "image/png": "[encoded data removed]",
      "text/plain": [
       "<IPython.core.display.Image object>"
      ]
     },
     "execution_count": 28,
     "metadata": {
      "image/png": {
       "height": 251,
       "width": 216
      }
     },
     "output_type": "execute_result"
    }
   ],
   "source": [
    "from keras.utils import plot_model\n",
    "from IPython.display import Image\n",
    "plot_model(model, show_shapes=True, show_layer_names=True, to_file='rnnlm.png')\n",
    "Image(retina=True, filename='rnnlm.png')"
   ]
  },
  {
   "cell_type": "code",
   "execution_count": 40,
   "metadata": {},
   "outputs": [],
   "source": [
    "def generate_text(model, start_string):\n",
    "    # Evaluation step (generating text using the learned model)\n",
    "\n",
    "    # Number of characters to generate\n",
    "    num_generate = 1000\n",
    "\n",
    "    # Converting our start string to numbers (vectorizing)\n",
    "    input_eval = [token_to_index[s] for s in start_string]\n",
    "    input_eval = tf.expand_dims(input_eval, 0)\n",
    "\n",
    "    # Empty string to store our results\n",
    "    text_generated = []\n",
    "\n",
    "    # Low temperatures results in more predictable text.\n",
    "    # Higher temperatures results in more surprising text.\n",
    "    # Experiment to find the best setting.\n",
    "    temperature = 0.3\n",
    "\n",
    "    # Here batch size == 1\n",
    "    model.reset_states()\n",
    "    for i in range(num_generate):\n",
    "        predictions = model(input_eval)\n",
    "        # remove the batch dimension\n",
    "        predictions = tf.squeeze(predictions, 0)\n",
    "\n",
    "        # using a multinomial distribution to predict the word returned by the model\n",
    "        predictions = predictions / temperature\n",
    "        predicted_id = tf.multinomial(predictions, num_samples=1)[-1,0].numpy()\n",
    "\n",
    "        # We pass the predicted word as the next input to the model\n",
    "        # along with the previous hidden state\n",
    "        input_eval = tf.expand_dims([predicted_id], 0)\n",
    "\n",
    "        text_generated.append(index_to_token[predicted_id])\n",
    "\n",
    "    return (start_string + ''.join(text_generated))"
   ]
  },
  {
   "cell_type": "code",
   "execution_count": null,
   "metadata": {
    "scrolled": false
   },
   "outputs": [],
   "source": [
    "print(generate_text(model, start_string=u\"MAGA \"))"
   ]
  },
  {
   "cell_type": "markdown",
   "metadata": {},
   "source": [
    "## 34 Epochs"
   ]
  },
  {
   "cell_type": "markdown",
   "metadata": {},
   "source": [
    "Seed: \"Tariffs \"\n",
    "\n",
    "    \n",
    "Tariffs being setured. \n",
    "\n",
    "“TRUMP RESPONSE TO TRUMP THE NATION - THANK YOU for your service to the Republican Party - which is waiting for the record crowd. Make your work count.\n",
    "Entrepreneurs: Don't tread water. Give it to them.  I’m sure the Democrats will nominate for Trump\"\n",
    "\"@morg25016893:  @foxandfriends @kilmeade @realDonaldTrump @ApprenticeNBC I LOVE THIS SHOW👍❤️‼️\"\n",
    "\"@WSJPolitics: .@realDonaldTrump and the Democrats will vote for Trump unless u want to keep prices or the large Chinese lobbyists! \n",
    "\"@thegrahama1: @realDonaldTrump We need you in the white house. You are the best\"\n",
    "\"@kingkript: @realDonaldTrump @oreillyfactor @FoxNews I have always knew that if I was pouring into ISIS in the Senate, and I send our country if you read this was fact checked by @megynkelly and hearing him so far this country!\n",
    "\"@MichaelEntrekin: @realDonaldTrump @russiannavyblog @Joe3957 @jwil444 @DNorrell @greta @StateDept @FoxNews The statement put out this morning. Discussed many billions of dollars a year, agr"
   ]
  },
  {
   "cell_type": "markdown",
   "metadata": {},
   "source": [
    "Seed: \"Hillary \"\n",
    "\n",
    "\n",
    "Hillary is self-funding.\n",
    "Congratulations to @FoxNews for coming to the United States of America! I will see you soon for a great time in D.C. Now achieve the U.S. and Crime, the Manufacturing Council, leaked the other candidates.\n",
    "Republicans must stop respect to the White House to watch the Fake News until the U.S.A., a big step in the moves th… \n",
    "RT @FLOTUS: Helping children across the countries of the Christopher Steele, will listen right to happen for bad and orst very soon after interviewing out of the U.S. should look to our Great Veterans! We raised $6,000,000.00 while Secretary of State, Hillary Clinton, on the pa… \n",
    "“Iran wants to take far absolute and to be there - and the solution, not the process of final approach o… \n",
    "This is a very big deal, especially in terms of celebrities in our country, have stronger than anyone can imagine what an amazing progress!\n",
    "I am all of the product in U.S. history, &amp; much more than ever before!\n",
    "The big Caravan of People only seized politicians would "
   ]
  },
  {
   "cell_type": "markdown",
   "metadata": {},
   "source": [
    "**Start String:** Hillary Clinton\n",
    "    \n",
    "\n",
    "Hillary Clinton and her cronies. Let's Make America Great Again! \n",
    "I'm with YOU. I will work hard and never let you down. Make America Great Again!\n",
    "Needed Record Setting Attorney General Christie and the Russians, the Chinese of the Border in any candidate, and I will spend more the subject way of intelligence into the… \n",
    "I will be interviewed on @foxandfriends this morning. So many people are sick of deadly appreciated.\n",
    "Thank you @FLGovScott. \n",
    "Dishonest reports that “former FBI lawyer told him so badly full Pardon of the Year. This is… \n",
    "\n",
    "\n",
    "Thank you @Morning_Joe for throwing the all-time Rep. Jerry Nadler) who are at real professionals that were among the materials former Secretary of State. The silent majority is back and we will MAKE AMERICA GREAT AGAIN!\n",
    "\"@LikeAndrewive call the people of Michigan. I am proud to stand with you on this Mind!\n",
    "Join me in Pittsburgh- tomorrow at 7:30pm! #Trump2016 #MakeAmericaGreatAgain\n",
    "\n",
    "\n",
    "\"@MrMet41: @realDonaldTrump @ApprenticeNBC I want a better candidate. Donald Trump has"
   ]
  },
  {
   "cell_type": "markdown",
   "metadata": {},
   "source": [
    "**Start String:** Great reception\n",
    "    \n",
    "Great reception in North Korea. Too bad a crooked &amp; talk about how Trump we can bring us program I know she's not happy!\n",
    "\n",
    "\n",
    "The phony story in the debate was it that the City is ill-prepared to wrat you did a great job sounds nothing and he is out of control. This is a mess. More freezulent committee for Trump. The Democrats are over. We need him in defense, career, Christopher Steele, a… \n",
    "\n",
    "\n",
    "The U.S. Consumer Confidence hits highest level since 2000.\n",
    ".@MediaBuzzFNC- thank you for your intelligence of reason. They were caught red regardless of any… \n",
    "A Democratic National Convention #1 on the campaign trail by presidential candidates concerning healthcare. They ma… \n",
    "\n",
    "\n",
    "Thank you to Chairman Kim. The Democrat in the United States of America has reached a speech on OAN Endless World Golf Championship @TrumpDoral in Miami- but talks like her is a total lie. U.S. made up story. A true War.\"\n",
    "\"@jsilva74366572: @realDonaldTrump @meetthepress this country can't be bought Democrats to admit it to stop the massive in"
   ]
  },
  {
   "cell_type": "markdown",
   "metadata": {},
   "source": [
    "## 44 Epochs"
   ]
  },
  {
   "cell_type": "markdown",
   "metadata": {},
   "source": [
    "**Start Seed:** Crooked Hillary\n",
    "Temperature: 0.5\n",
    "\n",
    "Crooked Hillary &amp; the Dems were unhappy with the selection of Mueller t… \n",
    "I called President Putin, have been healthy confidence is at a 17 year low &amp; motivation. He's the icon, business than the very important Farm Bill –… \n",
    "\n",
    "\n",
    ".@EWErickson is a total low life--- read his past tweets. A true American hero. #MaitnerStrong  \n",
    "\n",
    "\n",
    "Thank you Missouri - I love you! \n",
    "\n",
    "\n",
    "WOW - THANK YOU TENNESSEE! \n",
    "\n",
    "\n",
    "Happy 7th birthday to Tristan, a very special member of the Trump campaign. But why aren't Crooked Hillary &amp; the Dems want to keep genius. Rubio and Cruz are not funured in the U.K. agree with me!\n",
    "\n",
    "\n",
    "Crooked Hillary Clinton is a vote for another large section of the White House and offered to help the people, not run a business, CNN &amp; others in OPEC will go down as the worlds greatent in the history of our great Country. Just another all watching top leadership and his AMPRICA GREAT AGAIN!\n",
    "\n",
    "\n",
    "I will be interviewed by @MariaBartiromo at 6:00 P.M. on @FoxNews. Enjoy!\n",
    "\n",
    "\n",
    "Hard to believe that @FoxNews weekend anchors is w"
   ]
  },
  {
   "cell_type": "markdown",
   "metadata": {},
   "source": [
    "**Start Seed:** Build the wall\n",
    "**Temperature:** 0.5\n",
    "\n",
    "\n",
    "Build the wall and MAKE AMERICA SAFE AGAIN!\n",
    "\n",
    "\n",
    "The Republican platform is most \n",
    "pro-Israel of all time!\"\n",
    "\n",
    "\n",
    "Thank you Indiana! Was great people who are never interviewed by @andersoncooper @trumpmarlette made honesty &amp; one sided in case they belong starts being sent back to African-American and Lost Allied in Wisconsin as a rock Mike Pence. We will have a great time!\n",
    "\n",
    "\n",
    "Governor @Mike_Pence and I are the chantisticated a trade agreement with Mexico is getting started. Together, we are MAKING AMERICA GREAT AGAIN!\n",
    "\n",
    "\n",
    "\"@Crz4basball: @JudgeJeanine  @realDonaldTrump His biggest assets is no longer abuse best shape to address he sells The Nation's new ballot today by the Democrats. Border Security and Wall. No doubt!\n",
    "BUILD A WALL &amp; CRIME WILL FALL! This is the most followers more than Donald Trump @TrumpDoral”  via @TheHillOpinion \n",
    "\n",
    "\n",
    "RT @KenyaMoore: @realDonaldTrump @JohnMcCain Trump speaks the truth about jobs that stormed and cost is out of control, ha… \n",
    "....and a man who has no sense of the now put their live"
   ]
  },
  {
   "cell_type": "markdown",
   "metadata": {},
   "source": [
    "Start Seed: Hillary Clinton\n",
    "\n",
    "\n",
    "Temperature: 0.5\n",
    "\n",
    "\n",
    "Hillary Clinton may never heard of The National Economic Council. Our Country is doing very well. We are so thankful for helping to create the phony, dirty and discredited Dossier (&amp; seek them to make the Obama Admin. They are as bad as ratings charge your great interview with Peter Roff of U.S. Senate should sweat it! We need strong borders and richer taxes, and I will destroy the President. Thank you South Carolina! We will MAKE AMERICA SAFE… \n",
    "Join the MOVEMENT!\n",
    "\n",
    " \n",
    "Wow, did you just hear Mike Pence is the most ago to North Korea by thei…\n",
    "\n",
    "\n",
    "Thank you @SenJohnHoeven, so many people both in one he was going to be abused threaten to the success of @realDonaldTrump and I can't wait to watch The Celebrity Apprentice! Can't wait!\"\n",
    "\n",
    "\n",
    "\"@frankadgpr: @realDonaldTrump @steveman905 we don't know if Hil will get the honest poll numbers that will soon put me in first place.  GREAT understands the world is not… \n",
    "\n",
    "\n",
    "....The Dems Love on the truth. Highly in U.S. history, &amp; much mo…\n",
    "RT @realDonaldTrump: Today’s Court"
   ]
  },
  {
   "cell_type": "code",
   "execution_count": null,
   "metadata": {},
   "outputs": [],
   "source": []
  }
 ],
 "metadata": {
  "kernelspec": {
   "display_name": "Python 3",
   "language": "python",
   "name": "python3"
  },
  "language_info": {
   "codemirror_mode": {
    "name": "ipython",
    "version": 3
   },
   "file_extension": ".py",
   "mimetype": "text/x-python",
   "name": "python",
   "nbconvert_exporter": "python",
   "pygments_lexer": "ipython3",
   "version": "3.7.3"
  }
 },
 "nbformat": 4,
 "nbformat_minor": 2
}
