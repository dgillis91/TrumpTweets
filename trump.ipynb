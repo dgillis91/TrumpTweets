{
 "cells": [
  {
   "cell_type": "code",
   "execution_count": 1,
   "metadata": {},
   "outputs": [],
   "source": [
    "import os\n",
    "import re\n",
    "import random\n",
    "import json\n",
    "from typing import List\n",
    "\n",
    "\n",
    "import numpy as np\n",
    "import tensorflow as tf\n",
    "\n",
    "tf.enable_eager_execution()\n",
    "config = tf.ConfigProto()\n",
    "config.gpu_options.allow_growth = True\n",
    "session = tf.InteractiveSession(config=config)\n",
    "\n",
    "from tensorflow.keras.preprocessing.sequence import pad_sequences\n",
    "from tensorflow.keras.preprocessing.text import Tokenizer"
   ]
  },
  {
   "cell_type": "code",
   "execution_count": 2,
   "metadata": {},
   "outputs": [],
   "source": [
    "tweet_list = list()\n",
    "with open('trump_tweets.json', 'r') as tweets:\n",
    "    for tweet in tweets:\n",
    "        tweet_list.append(json.loads(tweet))"
   ]
  },
  {
   "cell_type": "code",
   "execution_count": 3,
   "metadata": {},
   "outputs": [
    {
     "data": {
      "text/plain": [
       "{'contributors': None,\n",
       " 'coordinates': None,\n",
       " 'created_at': 'Mon May 04 18:54:25 +0000 2009',\n",
       " 'entities': {'hashtags': [], 'symbols': [], 'urls': [], 'user_mentions': []},\n",
       " 'favorite_count': 850,\n",
       " 'favorited': False,\n",
       " 'geo': None,\n",
       " 'id': 1698308935,\n",
       " 'id_str': '1698308935',\n",
       " 'in_reply_to_screen_name': None,\n",
       " 'in_reply_to_status_id': None,\n",
       " 'in_reply_to_status_id_str': None,\n",
       " 'in_reply_to_user_id': None,\n",
       " 'in_reply_to_user_id_str': None,\n",
       " 'is_quote_status': False,\n",
       " 'lang': 'en',\n",
       " 'place': None,\n",
       " 'retrieved_utc': 1562866582.0,\n",
       " 'retweet_count': 501,\n",
       " 'retweeted': False,\n",
       " 'source': '<a href=\"http://twitter.com\" rel=\"nofollow\">Twitter Web Client</a>',\n",
       " 'text': 'Be sure to tune in and watch Donald Trump on Late Night with David Letterman as he presents the Top Ten List tonight!',\n",
       " 'truncated': False,\n",
       " 'user': {'contributors_enabled': False,\n",
       "  'created_at': 'Wed Mar 18 13:46:38 +0000 2009',\n",
       "  'default_profile': False,\n",
       "  'default_profile_image': False,\n",
       "  'description': '45th President of the United States of America🇺🇸',\n",
       "  'entities': {'description': {'urls': []},\n",
       "   'url': {'urls': [{'display_url': 'Instagram.com/realDonaldTrump',\n",
       "      'expanded_url': 'http://www.Instagram.com/realDonaldTrump',\n",
       "      'indices': [0, 23],\n",
       "      'url': 'https://t.co/OMxB0x7xC5'}]}},\n",
       "  'favourites_count': 7,\n",
       "  'follow_request_sent': False,\n",
       "  'followers_count': 61858832,\n",
       "  'following': True,\n",
       "  'friends_count': 47,\n",
       "  'geo_enabled': True,\n",
       "  'has_extended_profile': False,\n",
       "  'id': 25073877,\n",
       "  'id_str': '25073877',\n",
       "  'is_translation_enabled': True,\n",
       "  'is_translator': False,\n",
       "  'lang': None,\n",
       "  'listed_count': 105141,\n",
       "  'location': 'Washington, DC',\n",
       "  'name': 'Donald J. Trump',\n",
       "  'notifications': False,\n",
       "  'profile_background_color': '6D5C18',\n",
       "  'profile_background_image_url': 'http://abs.twimg.com/images/themes/theme1/bg.png',\n",
       "  'profile_background_image_url_https': 'https://abs.twimg.com/images/themes/theme1/bg.png',\n",
       "  'profile_background_tile': True,\n",
       "  'profile_banner_url': 'https://pbs.twimg.com/profile_banners/25073877/1560920145',\n",
       "  'profile_image_url': 'http://pbs.twimg.com/profile_images/874276197357596672/kUuht00m_normal.jpg',\n",
       "  'profile_image_url_https': 'https://pbs.twimg.com/profile_images/874276197357596672/kUuht00m_normal.jpg',\n",
       "  'profile_link_color': '1B95E0',\n",
       "  'profile_sidebar_border_color': 'BDDCAD',\n",
       "  'profile_sidebar_fill_color': 'C5CEC0',\n",
       "  'profile_text_color': '333333',\n",
       "  'profile_use_background_image': True,\n",
       "  'protected': False,\n",
       "  'screen_name': 'realDonaldTrump',\n",
       "  'statuses_count': 42807,\n",
       "  'time_zone': None,\n",
       "  'translator_type': 'regular',\n",
       "  'url': 'https://t.co/OMxB0x7xC5',\n",
       "  'utc_offset': None,\n",
       "  'verified': True}}"
      ]
     },
     "execution_count": 3,
     "metadata": {},
     "output_type": "execute_result"
    }
   ],
   "source": [
    "tweet_list[0]"
   ]
  },
  {
   "cell_type": "code",
   "execution_count": 4,
   "metadata": {},
   "outputs": [],
   "source": [
    "def include_in_dataset(record):\n",
    "    if not record['retweeted'] and int(record['created_at'][-4:]) >= 2015:\n",
    "        return True\n",
    "    else:\n",
    "        return False\n",
    "\n",
    "\n",
    "tweet_data = list()\n",
    "for tweet in tweet_list:\n",
    "    if include_in_dataset(tweet):\n",
    "        tweet_data.append(tweet['text'])"
   ]
  },
  {
   "cell_type": "code",
   "execution_count": 5,
   "metadata": {},
   "outputs": [
    {
     "data": {
      "text/plain": [
       "['\"@JaayZen: @realDonaldTrump Thanks Donald. Now run for president! Fulfill your purpose! \"To much is given, much is required\"',\n",
       " '\"@teamconquerca: First time in the\"Trump International Hotel and Tower\" and it\\'s absolutely gorgeous!! Thank-You sir! Excellent hospitality',\n",
       " '\"@AngelaTN777: @gochico @realDonaldTrump: He STANDS UP for what he believes in!! regardless if all people like it. #Hasmyrespect&amp;Vote\"',\n",
       " '\"@JaayZen: @grandmiapens He has all the ingredients to get elected and turn this this ship around! Run! Don\\'t let us hit the iceberg!\"',\n",
       " '\"@MarcAardvark: @realDonaldTrump @ronmeier123 One of the best things I bought in 2014: @realDonaldTrump ties @Macys @amazon\"',\n",
       " '\"@PaulParmar1: @realDonaldTrump so excited for @ApprenticeNBC thank you for creating such an amazing show #CelebApprentice\" Enjoy it, thanks',\n",
       " '\"@ryanbushby: @realDonaldTrump i bet you have some great ideas on how to turn this country around\"  I do, big league!',\n",
       " '\"@LLAnkers: DonaldTrump,  it\\'s a shame the left try so hard to tear you down. You could be a great leader for our nation. Keep it up Trump!',\n",
       " '\"@flicka__: @realDonaldTrump for president\"',\n",
       " 'The Mar-a-Lago Club was amazing tonight. Everybody was there, the biggest and the hottest. Palm Beach is so lucky to have best club in world']"
      ]
     },
     "execution_count": 5,
     "metadata": {},
     "output_type": "execute_result"
    }
   ],
   "source": [
    "tweet_data[:10]"
   ]
  },
  {
   "cell_type": "code",
   "execution_count": 6,
   "metadata": {},
   "outputs": [],
   "source": [
    "# Remove URLs\n",
    "tweet_data = [\n",
    "    re.sub('http\\S+', '', tweet, flags=re.MULTILINE)\n",
    "    for tweet in tweet_data\n",
    "]"
   ]
  },
  {
   "cell_type": "code",
   "execution_count": 7,
   "metadata": {},
   "outputs": [
    {
     "data": {
      "text/plain": [
       "['\"@JaayZen: @realDonaldTrump Thanks Donald. Now run for president! Fulfill your purpose! \"To much is given, much is required\"',\n",
       " '\"@teamconquerca: First time in the\"Trump International Hotel and Tower\" and it\\'s absolutely gorgeous!! Thank-You sir! Excellent hospitality',\n",
       " '\"@AngelaTN777: @gochico @realDonaldTrump: He STANDS UP for what he believes in!! regardless if all people like it. #Hasmyrespect&amp;Vote\"',\n",
       " '\"@JaayZen: @grandmiapens He has all the ingredients to get elected and turn this this ship around! Run! Don\\'t let us hit the iceberg!\"',\n",
       " '\"@MarcAardvark: @realDonaldTrump @ronmeier123 One of the best things I bought in 2014: @realDonaldTrump ties @Macys @amazon\"',\n",
       " '\"@PaulParmar1: @realDonaldTrump so excited for @ApprenticeNBC thank you for creating such an amazing show #CelebApprentice\" Enjoy it, thanks',\n",
       " '\"@ryanbushby: @realDonaldTrump i bet you have some great ideas on how to turn this country around\"  I do, big league!',\n",
       " '\"@LLAnkers: DonaldTrump,  it\\'s a shame the left try so hard to tear you down. You could be a great leader for our nation. Keep it up Trump!',\n",
       " '\"@flicka__: @realDonaldTrump for president\"',\n",
       " 'The Mar-a-Lago Club was amazing tonight. Everybody was there, the biggest and the hottest. Palm Beach is so lucky to have best club in world']"
      ]
     },
     "execution_count": 7,
     "metadata": {},
     "output_type": "execute_result"
    }
   ],
   "source": [
    "tweet_data[:10]"
   ]
  },
  {
   "cell_type": "code",
   "execution_count": 8,
   "metadata": {},
   "outputs": [],
   "source": [
    "tweet_text = '\\n'.join(tweet_data)"
   ]
  },
  {
   "cell_type": "code",
   "execution_count": 9,
   "metadata": {},
   "outputs": [],
   "source": [
    "vocab = sorted(set(tweet_text))"
   ]
  },
  {
   "cell_type": "code",
   "execution_count": 10,
   "metadata": {},
   "outputs": [],
   "source": [
    "word_to_index = {u:i for i, u in enumerate(vocab)}\n",
    "index_to_word = np.array(vocab)"
   ]
  },
  {
   "cell_type": "code",
   "execution_count": 11,
   "metadata": {},
   "outputs": [
    {
     "name": "stdout",
     "output_type": "stream",
     "text": [
      "[+] 566 Distinct Chars in The Donald's tweets\n"
     ]
    }
   ],
   "source": [
    "word_count = len(index_to_word)\n",
    "print(\n",
    "  f'[+] {word_count} Distinct Chars in The Donald\\'s tweets'\n",
    ")"
   ]
  },
  {
   "cell_type": "code",
   "execution_count": 12,
   "metadata": {},
   "outputs": [
    {
     "name": "stdout",
     "output_type": "stream",
     "text": [
      "[+] Word to Index:\n",
      "{\n",
      "\t\n",
      ": 0\n",
      "\t : 1\n",
      "\t!: 2\n",
      "\t\": 3\n",
      "\t#: 4\n",
      "\t$: 5\n",
      "\t%: 6\n",
      "\t&: 7\n",
      "\t': 8\n",
      "\t(: 9\n",
      "\t): 10\n",
      "\t*: 11\n",
      "\t+: 12\n",
      "\t,: 13\n",
      "\t-: 14\n",
      "\t.: 15\n",
      "\t/: 16\n",
      "\t0: 17\n",
      "\t1: 18\n",
      "\t2: 19\n",
      "...\n",
      "}\n",
      "[+] Index to Word:\n",
      "['\\n' ' ' '!' '\"' '#' '$' '%' '&' \"'\" '(' ')' '*' '+' ',' '-' '.' '/' '0'\n",
      " '1' '2' '3' '4' '5' '6' '7' '8' '9' ':' ';' '=' '?' '@' 'A' 'B' 'C' 'D'\n",
      " 'E' 'F' 'G' 'H' 'I' 'J' 'K' 'L' 'M' 'N' 'O' 'P' 'Q' 'R' 'S' 'T' 'U' 'V'\n",
      " 'W' 'X' 'Y' 'Z' '[' '\\\\' ']' '_' '`' 'a' 'b' 'c' 'd' 'e' 'f' 'g' 'h' 'i'\n",
      " 'j' 'k' 'l' 'm' 'n' 'o' 'p' 'q' 'r' 's' 't' 'u' 'v' 'w' 'x' 'y' 'z' '{'\n",
      " '|' '}' '~' '\\xa0' '«' '¯' '´' '»' 'É' 'á' 'â' 'è' 'é' 'í' 'ï' 'ñ' 'ó'\n",
      " 'ô' 'ø' 'ú' 'ğ' 'ı' 'ĺ' 'ō' 'ד' 'ז' 'ח' 'י' 'ם' 'מ' 'ק' 'ת' 'ا' 'ب' 'ت'\n",
      " 'ج' 'د' 'ر' 'س' 'ش' 'ط' 'ف' 'ق' 'ل' 'م' 'ن' 'ه' 'و' 'چ' 'ژ' 'ک' 'ی' '۰'\n",
      " '۴' 'ễ' '\\u200b' '\\u200d' '–' '—' '―' '‘' '’' '“' '”' '•' '…' '′' '‼'\n",
      " '\\u2066' '\\u2069' '↔' '●' '☀' '☁' '☆' '☉' '☑' '☘' '☞' '☹' '☺' '♂' '♡' '♥'\n",
      " '⚠' '⚡' '⚾' '✅' '✈' '✌' '✔' '✨' '❌' '❤' '➜' '➡' '⬅' '⬇' '、' '。' '々' '《'\n",
      " '「' '」' '【' '】' 'あ' 'い' 'う' 'え' 'お' 'か' 'が' 'き' 'ぎ' 'く' 'け' 'げ' 'こ' 'ご'\n",
      " 'さ' 'ざ' 'し' 'じ' 'す' 'せ' 'そ' 'た' 'だ' 'っ' 'つ' 'て' 'で' 'と' 'な' 'に' 'の' 'は'\n",
      " 'へ' 'ま' 'み' 'め' 'も' 'や' 'よ' 'ら' 'り' 'る' 'れ' 'を' 'ア' 'ィ' 'イ' 'ゴ' 'サ' 'ジ'\n",
      " 'ス' 'セ' 'ゼ' 'ダ' 'チ' 'ッ' 'ツ' 'デ' 'ト' 'ド' 'ナ' 'ニ' 'フ' 'プ' 'ベ' 'ミ' 'メ' 'モ'\n",
      " 'ラ' 'リ' 'ル' 'ロ' 'ン' 'ー' '一' '三' '上' '下' '世' '両' '人' '今' '代' '令' '以' '会'\n",
      " '倍' '共' '典' '出' '初' '到' '功' '励' '勢' '北' '千' '半' '印' '取' '史' '同' '后' '向'\n",
      " '和' '問' '善' '国' '夕' '大' '天' '太' '夫' '安' '密' '対' '尽' '居' '席' '常' '幕' '平'\n",
      " '式' '当' '応' '情' '成' '投' '拉' '揃' '揺' '携' '新' '日' '早' '昨' '時' '更' '最' '朝'\n",
      " '本' '来' '様' '標' '機' '歓' '歴' '洋' '活' '海' '済' '激' '点' '理' '由' '界' '的' '皇'\n",
      " '盟' '目' '相' '着' '示' '祈' '稿' '米' '絆' '経' '統' '続' '緊' '総' '考' '脳' '臨' '自'\n",
      " '至' '致' '艦' '葉' '行' '衛' '要' '見' '訪' '話' '認' '課' '談' '識' '護' '費' '賓' '軍'\n",
      " '迎' '通' '速' '連' '過' '違' '重' '開' '間' '阪' '陛' '隊' '非' '領' '題' '食' '首' '鮮'\n",
      " '고' '국' '는' '대' '라' '렛' '리' '며' '모' '미' '바' '받' '보' '북' '브' '상' '서' '소'\n",
      " '습' '에' '오' '울' '을' '의' '쟁' '전' '정' '초' '측' '핑' '하' '한' '화' '️' '！' '０'\n",
      " '２' 'Ｇ' '🇦' '🇧' '🇨' '🇪' '🇫' '🇬' '🇭' '🇮' '🇯' '🇰' '🇱' '🇲' '🇴' '🇵' '🇷' '🇸'\n",
      " '🇹' '🇺' '🇻' '🇼' '🇽' '🌍' '🌏' '🌺' '🍑' '🎆' '🎈' '🎉' '🎥' '🎧' '🎬' '🎾' '🏁' '🏆'\n",
      " '🏈' '🏛' '🏢' '🏫' '🏻' '🏼' '🏽' '🐶' '👀' '👆' '👈' '👉' '👊' '👋' '👌' '👍' '👎' '👏'\n",
      " '👑' '👔' '👗' '👚' '👢' '👿' '💃' '💔' '💕' '💗' '💘' '💚' '💜' '💤' '💥' '💦' '💨' '💪'\n",
      " '💯' '💰' '📈' '📉' '📱' '📸' '📺' '🔅' '🔟' '🔥' '🔹' '🗽' '😁' '😂' '😃' '😄' '😅' '😆'\n",
      " '😇' '😉' '😊' '😍' '😎' '😒' '😓' '😔' '😘' '😜' '😡' '😢' '😣' '😩' '😬' '😰' '😱' '😳'\n",
      " '😴' '🙋' '🙌' '🙏' '🚀' '🚁' '🚂' '🚒' '🚤' '🚨' '🤔' '🤖' '🦃' '\\U0010fc00']\n"
     ]
    }
   ],
   "source": [
    "def pretty_print_dict(d: dict, length=20):\n",
    "    print('{')\n",
    "    for (index, (k, v)) in zip(range(length), d.items()):\n",
    "        print(f'\\t{k}: {v}')\n",
    "    print('...')\n",
    "    print('}')\n",
    "\n",
    "print('[+] Word to Index:')\n",
    "pretty_print_dict(word_to_index, 20)\n",
    "print(f'[+] Index to Word:')\n",
    "print(index_to_word)"
   ]
  },
  {
   "cell_type": "code",
   "execution_count": 13,
   "metadata": {},
   "outputs": [],
   "source": [
    "text_as_int = np.array([word_to_index[c] for c in tweet_text])"
   ]
  },
  {
   "cell_type": "code",
   "execution_count": 14,
   "metadata": {},
   "outputs": [
    {
     "name": "stdout",
     "output_type": "stream",
     "text": [
      "First 5 Words:\n",
      "WARNING:tensorflow:From /home/das-hund/.conda/envs/notebook/lib/python3.7/site-packages/tensorflow/python/data/ops/iterator_ops.py:532: colocate_with (from tensorflow.python.framework.ops) is deprecated and will be removed in a future version.\n",
      "Instructions for updating:\n",
      "Colocations handled automatically by placer.\n",
      "\"\n",
      "@\n",
      "J\n",
      "a\n",
      "a\n"
     ]
    }
   ],
   "source": [
    "# Here we are just getting the really long sequence into\n",
    "# tf.Dataset object. \n",
    "SEQUENCE_LENGTH = 140\n",
    "examples_per_epoch = len(tweet_text) // SEQUENCE_LENGTH\n",
    "\n",
    "sequence_dataset = tf.data.Dataset.from_tensor_slices(text_as_int)\n",
    "print('First 5 Words:')\n",
    "for i in sequence_dataset.take(5):\n",
    "    print(index_to_word[i.numpy()])"
   ]
  },
  {
   "cell_type": "code",
   "execution_count": 15,
   "metadata": {},
   "outputs": [
    {
     "name": "stdout",
     "output_type": "stream",
     "text": [
      "'\"@JaayZen: @realDonaldTrump Thanks Donald. Now run for president! Fulfill your purpose! \"To much is given, much is required\"\\n\"@teamconquerca:'\n",
      "' First time in the\"Trump International Hotel and Tower\" and it\\'s absolutely gorgeous!! Thank-You sir! Excellent hospitality\\n\"@AngelaTN777: @g'\n",
      "'ochico @realDonaldTrump: He STANDS UP for what he believes in!! regardless if all people like it. #Hasmyrespect&amp;Vote\"\\n\"@JaayZen: @grandmi'\n",
      "'apens He has all the ingredients to get elected and turn this this ship around! Run! Don\\'t let us hit the iceberg!\"\\n\"@MarcAardvark: @realDona'\n",
      "'ldTrump @ronmeier123 One of the best things I bought in 2014: @realDonaldTrump ties @Macys @amazon\"\\n\"@PaulParmar1: @realDonaldTrump so excite'\n"
     ]
    }
   ],
   "source": [
    "sequences = sequence_dataset.batch(SEQUENCE_LENGTH + 1, drop_remainder=True)\n",
    "\n",
    "\n",
    "for item in sequences.take(5):\n",
    "    print(repr(''.join(index_to_word[item.numpy()])))"
   ]
  },
  {
   "cell_type": "code",
   "execution_count": 16,
   "metadata": {},
   "outputs": [],
   "source": [
    "def split_input_target(chunk):\n",
    "    input_text = chunk[:-1]\n",
    "    target_text = chunk[1:]\n",
    "    return input_text, target_text\n",
    "\n",
    "dataset = sequences.map(split_input_target)"
   ]
  },
  {
   "cell_type": "code",
   "execution_count": 17,
   "metadata": {},
   "outputs": [],
   "source": [
    "def sequence_as_text(indices):\n",
    "    words = []\n",
    "    for index in indices:\n",
    "        if index == END_INTEGER:\n",
    "            words.append('.')\n",
    "        else:\n",
    "            words.append(index_to_word[index])\n",
    "    return ' '.join(words)"
   ]
  },
  {
   "cell_type": "code",
   "execution_count": 18,
   "metadata": {},
   "outputs": [
    {
     "name": "stdout",
     "output_type": "stream",
     "text": [
      "Input data:  '\"@JaayZen: @realDonaldTrump Thanks Donald. Now run for president! Fulfill your purpose! \"To much is given, much is required\"\\n\"@teamconquerca'\n",
      "Target data: '@JaayZen: @realDonaldTrump Thanks Donald. Now run for president! Fulfill your purpose! \"To much is given, much is required\"\\n\"@teamconquerca:'\n"
     ]
    }
   ],
   "source": [
    "for input_example, target_example in dataset.take(1):\n",
    "    print('Input data: ', repr(''.join(index_to_word[input_example.numpy()])))\n",
    "    print('Target data:', repr(''.join(index_to_word[target_example.numpy()])))"
   ]
  },
  {
   "cell_type": "code",
   "execution_count": 19,
   "metadata": {},
   "outputs": [
    {
     "name": "stdout",
     "output_type": "stream",
     "text": [
      "[+] Examples Per Epoch: 15897\n",
      "[+] Steps Per Epoch: 248\n",
      "[+] Batch Size: 64\n"
     ]
    },
    {
     "data": {
      "text/plain": [
       "<DatasetV1Adapter shapes: ((64, 140), (64, 140)), types: (tf.int64, tf.int64)>"
      ]
     },
     "execution_count": 19,
     "metadata": {},
     "output_type": "execute_result"
    }
   ],
   "source": [
    "BATCH_SIZE = 64\n",
    "steps_per_epoch = examples_per_epoch // BATCH_SIZE\n",
    "\n",
    "dataset = dataset.shuffle(buffer_size=10000).batch(\n",
    "    batch_size=BATCH_SIZE, drop_remainder=True\n",
    ")\n",
    "\n",
    "print(f'[+] Examples Per Epoch: {examples_per_epoch}')\n",
    "print(f'[+] Steps Per Epoch: {steps_per_epoch}')\n",
    "print(f'[+] Batch Size: {BATCH_SIZE}')\n",
    "dataset"
   ]
  },
  {
   "cell_type": "code",
   "execution_count": 20,
   "metadata": {},
   "outputs": [],
   "source": [
    "RNN_UNITS = 1024\n",
    "EMBEDDING_DIM = 256"
   ]
  },
  {
   "cell_type": "code",
   "execution_count": 21,
   "metadata": {},
   "outputs": [],
   "source": [
    "# We are using the Keras stateful LSTM. With the statefull\n",
    "# LSTM, the the last state for each sample at index i in a \n",
    "# batch will be used as initial state for the sample of\n",
    "# index i in the following batch.\n",
    "def build_model(vocab_size: int, embed_dim: int, \n",
    "                rnn_units: int, batch_size: int):\n",
    "    model = tf.keras.Sequential()\n",
    "    model.add(tf.keras.layers.Embedding(\n",
    "        vocab_size, embed_dim,\n",
    "        batch_input_shape=[batch_size, None],\n",
    "        name='embedding'\n",
    "    ))\n",
    "    model.add(tf.keras.layers.CuDNNLSTM(\n",
    "            rnn_units, return_sequences=True,\n",
    "            recurrent_initializer='glorot_uniform',\n",
    "            stateful=True, name='lstm'\n",
    "    ))\n",
    "    model.add(tf.keras.layers.Dense(\n",
    "        vocab_size, name='dense_out'\n",
    "    ))\n",
    "    '''\n",
    "    model = tf.keras.Sequential([\n",
    "        tf.keras.layers.Embedding(\n",
    "            vocab_size, embed_dim, \n",
    "            batch_input_shape=[batch_size, None],\n",
    "            name='embedding'\n",
    "        ),\n",
    "        tf.keras.layers.CuDNNLSTM(\n",
    "          rnn_units, return_sequences=True,\n",
    "          recurrent_initializer='glorot_uniform',\n",
    "          stateful=True, name='lstm'\n",
    "        ),\n",
    "        tf.keras.layers.Dense(vocab_size, name='dense_out')\n",
    "    ])\n",
    "    '''\n",
    "    return model"
   ]
  },
  {
   "cell_type": "code",
   "execution_count": 22,
   "metadata": {},
   "outputs": [],
   "source": [
    "model = build_model(\n",
    "  vocab_size=word_count,\n",
    "  embed_dim=EMBEDDING_DIM, rnn_units=RNN_UNITS, \n",
    "  batch_size=BATCH_SIZE\n",
    ")"
   ]
  },
  {
   "cell_type": "code",
   "execution_count": 23,
   "metadata": {},
   "outputs": [
    {
     "name": "stdout",
     "output_type": "stream",
     "text": [
      "_________________________________________________________________\n",
      "Layer (type)                 Output Shape              Param #   \n",
      "=================================================================\n",
      "embedding (Embedding)        (64, None, 256)           144896    \n",
      "_________________________________________________________________\n",
      "lstm (CuDNNLSTM)             (64, None, 1024)          5251072   \n",
      "_________________________________________________________________\n",
      "dense_out (Dense)            (64, None, 566)           580150    \n",
      "=================================================================\n",
      "Total params: 5,976,118\n",
      "Trainable params: 5,976,118\n",
      "Non-trainable params: 0\n",
      "_________________________________________________________________\n"
     ]
    }
   ],
   "source": [
    "model.summary()"
   ]
  },
  {
   "cell_type": "code",
   "execution_count": 24,
   "metadata": {
    "scrolled": false
   },
   "outputs": [
    {
     "name": "stdout",
     "output_type": "stream",
     "text": [
      "(64, 140, 566) # (batch_size, sequence_length, vocab_size)\n"
     ]
    }
   ],
   "source": [
    "for input_example_batch, target_example_batch in dataset.take(1):\n",
    "    example_batch_predictions = model(input_example_batch)\n",
    "    print(example_batch_predictions.shape, \"# (batch_size, sequence_length, vocab_size)\")"
   ]
  },
  {
   "cell_type": "code",
   "execution_count": 25,
   "metadata": {},
   "outputs": [],
   "source": [
    "sampled_indices = tf.random.categorical(example_batch_predictions[0], num_samples=1)\n",
    "sampled_indices = tf.squeeze(sampled_indices,axis=-1).numpy()"
   ]
  },
  {
   "cell_type": "code",
   "execution_count": 26,
   "metadata": {},
   "outputs": [
    {
     "data": {
      "text/plain": [
       "array([238,   0,  53, 115, 226, 297, 237, 326, 132, 533, 379, 122, 505,\n",
       "       161, 418, 441, 414, 236, 452, 501, 519, 460, 454, 225, 421, 361,\n",
       "       557, 291, 394, 420, 265, 399, 354,  66, 286, 190, 435, 440, 301,\n",
       "       114, 367, 202, 249, 101, 248, 432, 226, 193, 388, 446, 158, 459,\n",
       "        66, 337, 171, 118, 559, 297, 565, 543, 164, 351, 306, 468,  51,\n",
       "       474, 208, 220, 537, 232, 536, 311, 408, 110, 207, 268, 256, 310,\n",
       "       304,  79, 554, 173, 559, 297, 171, 490,  24, 160, 272, 229, 523,\n",
       "       414, 370, 444, 274, 159, 387, 489, 289, 256, 550, 324, 442, 419,\n",
       "       198, 425, 545, 445, 148, 187,  93, 124, 541,  69, 216, 437, 116,\n",
       "        93, 513, 396, 107,  69,  53, 556,  72, 491,  87, 112, 249, 521,\n",
       "        66, 273,  96, 447, 411, 545, 340, 312,  60, 520])"
      ]
     },
     "execution_count": 26,
     "metadata": {},
     "output_type": "execute_result"
    }
   ],
   "source": [
    "sampled_indices"
   ]
  },
  {
   "cell_type": "code",
   "execution_count": 27,
   "metadata": {},
   "outputs": [],
   "source": [
    "def loss(labels, logits):\n",
    "    return tf.keras.losses.sparse_categorical_crossentropy(\n",
    "        labels, logits, from_logits=True\n",
    "    )\n",
    "\n",
    "model.compile(\n",
    "    optimizer=tf.train.AdamOptimizer(),\n",
    "    loss=loss\n",
    ")"
   ]
  },
  {
   "cell_type": "code",
   "execution_count": 28,
   "metadata": {},
   "outputs": [],
   "source": [
    "# Directory where the checkpoints will be saved\n",
    "checkpoint_dir = './training_checkpoints'\n",
    "# Name of the checkpoint files\n",
    "checkpoint_prefix = os.path.join(\n",
    "    checkpoint_dir, 'rnnlm.weights.kla.hdf5'\n",
    ")\n",
    "\n",
    "checkpoint_callback = tf.keras.callbacks.ModelCheckpoint(\n",
    "    filepath=checkpoint_prefix,\n",
    "    save_weights_only=True,\n",
    "    monitor='loss',\n",
    "    verbose=1, save_best_only=True, \n",
    "    mode='min'\n",
    ")"
   ]
  },
  {
   "cell_type": "code",
   "execution_count": 29,
   "metadata": {
    "scrolled": false
   },
   "outputs": [],
   "source": [
    "EPOCHS = 34\n",
    "\n",
    "FIT_MODEL = False\n",
    "\n",
    "if FIT_MODEL:\n",
    "    history = model.fit(\n",
    "      dataset.repeat(), epochs=EPOCHS, \n",
    "      steps_per_epoch=steps_per_epoch, callbacks=[checkpoint_callback]\n",
    "    )"
   ]
  },
  {
   "cell_type": "code",
   "execution_count": 30,
   "metadata": {},
   "outputs": [],
   "source": [
    "model = build_model(\n",
    "  vocab_size=word_count,\n",
    "  embed_dim=EMBEDDING_DIM, rnn_units=RNN_UNITS, \n",
    "  batch_size=1\n",
    ")\n",
    "model.load_weights(checkpoint_prefix)\n",
    "model.build(tf.TensorShape([1, None]))"
   ]
  },
  {
   "cell_type": "code",
   "execution_count": 31,
   "metadata": {},
   "outputs": [
    {
     "name": "stderr",
     "output_type": "stream",
     "text": [
      "Using TensorFlow backend.\n"
     ]
    },
    {
     "data": {
      "image/png": "[encoded data removed]",
      "text/plain": [
       "<IPython.core.display.Image object>"
      ]
     },
     "execution_count": 31,
     "metadata": {
      "image/png": {
       "height": 196,
       "width": 205
      }
     },
     "output_type": "execute_result"
    }
   ],
   "source": [
    "from keras.utils import plot_model\n",
    "from IPython.display import Image\n",
    "plot_model(model, show_shapes=True, show_layer_names=True, to_file='rnnlm.png')\n",
    "Image(retina=True, filename='rnnlm.png')"
   ]
  },
  {
   "cell_type": "code",
   "execution_count": 39,
   "metadata": {},
   "outputs": [],
   "source": [
    "def generate_text(model, start_string):\n",
    "    # Evaluation step (generating text using the learned model)\n",
    "\n",
    "    # Number of characters to generate\n",
    "    num_generate = 1000\n",
    "\n",
    "    # Converting our start string to numbers (vectorizing)\n",
    "    input_eval = [word_to_index[s] for s in start_string]\n",
    "    input_eval = tf.expand_dims(input_eval, 0)\n",
    "\n",
    "    # Empty string to store our results\n",
    "    text_generated = []\n",
    "\n",
    "    # Low temperatures results in more predictable text.\n",
    "    # Higher temperatures results in more surprising text.\n",
    "    # Experiment to find the best setting.\n",
    "    temperature = 0.5\n",
    "\n",
    "    # Here batch size == 1\n",
    "    model.reset_states()\n",
    "    for i in range(num_generate):\n",
    "        predictions = model(input_eval)\n",
    "        # remove the batch dimension\n",
    "        predictions = tf.squeeze(predictions, 0)\n",
    "\n",
    "        # using a multinomial distribution to predict the word returned by the model\n",
    "        predictions = predictions / temperature\n",
    "        predicted_id = tf.multinomial(predictions, num_samples=1)[-1,0].numpy()\n",
    "\n",
    "        # We pass the predicted word as the next input to the model\n",
    "        # along with the previous hidden state\n",
    "        input_eval = tf.expand_dims([predicted_id], 0)\n",
    "\n",
    "        text_generated.append(index_to_word[predicted_id])\n",
    "\n",
    "    return (start_string + ''.join(text_generated))"
   ]
  },
  {
   "cell_type": "code",
   "execution_count": 47,
   "metadata": {
    "scrolled": false
   },
   "outputs": [
    {
     "name": "stdout",
     "output_type": "stream",
     "text": [
      "Tariffs 🎆a a DOJ of the Justice Department of Congress for Trump Tower in Charlottesville, North Carolina tomorrow in San Jose was great. And they want to do a thing out of the U.S. Senate in the U.S. Senate is a special interest money and continues to get this country back on the Trump Administration is not a political reporting that the United States want to have the guts to start out of the next president than any other countries for the FBI and the Democrats on a great job as to the great people of our Vets, and failed by the Democrats will see what happened to sell this for our country has the guts for a great work.\n",
      "Entrepreneurs: Best person who was an extraordinary interests are amazing that he is a terrible job. I have never been asked for the fight of the U.S. Senate. Sad!\n",
      "The Democrats are on the debate tonight at 7:00 A.M. to discuss the polls are trying to happen to the U.S. Senate. He wants to see you there!\n",
      "Congratulations to @TrumpDoral in Florida - thank you! #Trump2016 \n",
      "Thank \n"
     ]
    }
   ],
   "source": [
    "print(generate_text(model, start_string=u\"Tariffs \"))"
   ]
  },
  {
   "cell_type": "code",
   "execution_count": null,
   "metadata": {},
   "outputs": [],
   "source": []
  }
 ],
 "metadata": {
  "kernelspec": {
   "display_name": "Python 3",
   "language": "python",
   "name": "python3"
  },
  "language_info": {
   "codemirror_mode": {
    "name": "ipython",
    "version": 3
   },
   "file_extension": ".py",
   "mimetype": "text/x-python",
   "name": "python",
   "nbconvert_exporter": "python",
   "pygments_lexer": "ipython3",
   "version": "3.7.3"
  }
 },
 "nbformat": 4,
 "nbformat_minor": 2
}
