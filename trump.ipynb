{
 "cells": [
  {
   "cell_type": "code",
   "execution_count": 1,
   "metadata": {},
   "outputs": [],
   "source": [
    "import os\n",
    "import re\n",
    "import random\n",
    "import json\n",
    "from typing import List\n",
    "\n",
    "\n",
    "import numpy as np\n",
    "import tensorflow as tf\n",
    "\n",
    "tf.enable_eager_execution()\n",
    "config = tf.ConfigProto()\n",
    "config.gpu_options.allow_growth = True\n",
    "session = tf.InteractiveSession(config=config)\n",
    "\n",
    "from tensorflow.keras.preprocessing.sequence import pad_sequences\n",
    "from tensorflow.keras.preprocessing.text import Tokenizer"
   ]
  },
  {
   "cell_type": "code",
   "execution_count": 2,
   "metadata": {},
   "outputs": [],
   "source": [
    "tweet_list = list()\n",
    "with open('trump_tweets.json', 'r') as tweets:\n",
    "    for tweet in tweets:\n",
    "        tweet_list.append(json.loads(tweet))"
   ]
  },
  {
   "cell_type": "code",
   "execution_count": 3,
   "metadata": {},
   "outputs": [
    {
     "data": {
      "text/plain": [
       "{'contributors': None,\n",
       " 'coordinates': None,\n",
       " 'created_at': 'Mon May 04 18:54:25 +0000 2009',\n",
       " 'entities': {'hashtags': [], 'symbols': [], 'urls': [], 'user_mentions': []},\n",
       " 'favorite_count': 850,\n",
       " 'favorited': False,\n",
       " 'geo': None,\n",
       " 'id': 1698308935,\n",
       " 'id_str': '1698308935',\n",
       " 'in_reply_to_screen_name': None,\n",
       " 'in_reply_to_status_id': None,\n",
       " 'in_reply_to_status_id_str': None,\n",
       " 'in_reply_to_user_id': None,\n",
       " 'in_reply_to_user_id_str': None,\n",
       " 'is_quote_status': False,\n",
       " 'lang': 'en',\n",
       " 'place': None,\n",
       " 'retrieved_utc': 1562866582.0,\n",
       " 'retweet_count': 501,\n",
       " 'retweeted': False,\n",
       " 'source': '<a href=\"http://twitter.com\" rel=\"nofollow\">Twitter Web Client</a>',\n",
       " 'text': 'Be sure to tune in and watch Donald Trump on Late Night with David Letterman as he presents the Top Ten List tonight!',\n",
       " 'truncated': False,\n",
       " 'user': {'contributors_enabled': False,\n",
       "  'created_at': 'Wed Mar 18 13:46:38 +0000 2009',\n",
       "  'default_profile': False,\n",
       "  'default_profile_image': False,\n",
       "  'description': '45th President of the United States of America🇺🇸',\n",
       "  'entities': {'description': {'urls': []},\n",
       "   'url': {'urls': [{'display_url': 'Instagram.com/realDonaldTrump',\n",
       "      'expanded_url': 'http://www.Instagram.com/realDonaldTrump',\n",
       "      'indices': [0, 23],\n",
       "      'url': 'https://t.co/OMxB0x7xC5'}]}},\n",
       "  'favourites_count': 7,\n",
       "  'follow_request_sent': False,\n",
       "  'followers_count': 61858832,\n",
       "  'following': True,\n",
       "  'friends_count': 47,\n",
       "  'geo_enabled': True,\n",
       "  'has_extended_profile': False,\n",
       "  'id': 25073877,\n",
       "  'id_str': '25073877',\n",
       "  'is_translation_enabled': True,\n",
       "  'is_translator': False,\n",
       "  'lang': None,\n",
       "  'listed_count': 105141,\n",
       "  'location': 'Washington, DC',\n",
       "  'name': 'Donald J. Trump',\n",
       "  'notifications': False,\n",
       "  'profile_background_color': '6D5C18',\n",
       "  'profile_background_image_url': 'http://abs.twimg.com/images/themes/theme1/bg.png',\n",
       "  'profile_background_image_url_https': 'https://abs.twimg.com/images/themes/theme1/bg.png',\n",
       "  'profile_background_tile': True,\n",
       "  'profile_banner_url': 'https://pbs.twimg.com/profile_banners/25073877/1560920145',\n",
       "  'profile_image_url': 'http://pbs.twimg.com/profile_images/874276197357596672/kUuht00m_normal.jpg',\n",
       "  'profile_image_url_https': 'https://pbs.twimg.com/profile_images/874276197357596672/kUuht00m_normal.jpg',\n",
       "  'profile_link_color': '1B95E0',\n",
       "  'profile_sidebar_border_color': 'BDDCAD',\n",
       "  'profile_sidebar_fill_color': 'C5CEC0',\n",
       "  'profile_text_color': '333333',\n",
       "  'profile_use_background_image': True,\n",
       "  'protected': False,\n",
       "  'screen_name': 'realDonaldTrump',\n",
       "  'statuses_count': 42807,\n",
       "  'time_zone': None,\n",
       "  'translator_type': 'regular',\n",
       "  'url': 'https://t.co/OMxB0x7xC5',\n",
       "  'utc_offset': None,\n",
       "  'verified': True}}"
      ]
     },
     "execution_count": 3,
     "metadata": {},
     "output_type": "execute_result"
    }
   ],
   "source": [
    "tweet_list[0]"
   ]
  },
  {
   "cell_type": "code",
   "execution_count": 4,
   "metadata": {},
   "outputs": [],
   "source": [
    "def include_in_dataset(record):\n",
    "    if not record['retweeted'] and int(record['created_at'][-4:]) >= 2015:\n",
    "        return True\n",
    "    else:\n",
    "        return False\n",
    "\n",
    "\n",
    "tweet_data = list()\n",
    "for tweet in tweet_list:\n",
    "    if include_in_dataset(tweet):\n",
    "        tweet_data.append(tweet['text'])"
   ]
  },
  {
   "cell_type": "code",
   "execution_count": 5,
   "metadata": {},
   "outputs": [
    {
     "data": {
      "text/plain": [
       "['\"@JaayZen: @realDonaldTrump Thanks Donald. Now run for president! Fulfill your purpose! \"To much is given, much is required\"',\n",
       " '\"@teamconquerca: First time in the\"Trump International Hotel and Tower\" and it\\'s absolutely gorgeous!! Thank-You sir! Excellent hospitality',\n",
       " '\"@AngelaTN777: @gochico @realDonaldTrump: He STANDS UP for what he believes in!! regardless if all people like it. #Hasmyrespect&amp;Vote\"',\n",
       " '\"@JaayZen: @grandmiapens He has all the ingredients to get elected and turn this this ship around! Run! Don\\'t let us hit the iceberg!\"',\n",
       " '\"@MarcAardvark: @realDonaldTrump @ronmeier123 One of the best things I bought in 2014: @realDonaldTrump ties @Macys @amazon\"',\n",
       " '\"@PaulParmar1: @realDonaldTrump so excited for @ApprenticeNBC thank you for creating such an amazing show #CelebApprentice\" Enjoy it, thanks',\n",
       " '\"@ryanbushby: @realDonaldTrump i bet you have some great ideas on how to turn this country around\"  I do, big league!',\n",
       " '\"@LLAnkers: DonaldTrump,  it\\'s a shame the left try so hard to tear you down. You could be a great leader for our nation. Keep it up Trump!',\n",
       " '\"@flicka__: @realDonaldTrump for president\"',\n",
       " 'The Mar-a-Lago Club was amazing tonight. Everybody was there, the biggest and the hottest. Palm Beach is so lucky to have best club in world']"
      ]
     },
     "execution_count": 5,
     "metadata": {},
     "output_type": "execute_result"
    }
   ],
   "source": [
    "tweet_data[:10]"
   ]
  },
  {
   "cell_type": "code",
   "execution_count": 6,
   "metadata": {},
   "outputs": [],
   "source": [
    "# Remove URLs\n",
    "tweet_data = [\n",
    "    re.sub('http\\S+', '', tweet, flags=re.MULTILINE)\n",
    "    for tweet in tweet_data\n",
    "]"
   ]
  },
  {
   "cell_type": "code",
   "execution_count": 7,
   "metadata": {},
   "outputs": [
    {
     "data": {
      "text/plain": [
       "['\"@JaayZen: @realDonaldTrump Thanks Donald. Now run for president! Fulfill your purpose! \"To much is given, much is required\"',\n",
       " '\"@teamconquerca: First time in the\"Trump International Hotel and Tower\" and it\\'s absolutely gorgeous!! Thank-You sir! Excellent hospitality',\n",
       " '\"@AngelaTN777: @gochico @realDonaldTrump: He STANDS UP for what he believes in!! regardless if all people like it. #Hasmyrespect&amp;Vote\"',\n",
       " '\"@JaayZen: @grandmiapens He has all the ingredients to get elected and turn this this ship around! Run! Don\\'t let us hit the iceberg!\"',\n",
       " '\"@MarcAardvark: @realDonaldTrump @ronmeier123 One of the best things I bought in 2014: @realDonaldTrump ties @Macys @amazon\"',\n",
       " '\"@PaulParmar1: @realDonaldTrump so excited for @ApprenticeNBC thank you for creating such an amazing show #CelebApprentice\" Enjoy it, thanks',\n",
       " '\"@ryanbushby: @realDonaldTrump i bet you have some great ideas on how to turn this country around\"  I do, big league!',\n",
       " '\"@LLAnkers: DonaldTrump,  it\\'s a shame the left try so hard to tear you down. You could be a great leader for our nation. Keep it up Trump!',\n",
       " '\"@flicka__: @realDonaldTrump for president\"',\n",
       " 'The Mar-a-Lago Club was amazing tonight. Everybody was there, the biggest and the hottest. Palm Beach is so lucky to have best club in world']"
      ]
     },
     "execution_count": 7,
     "metadata": {},
     "output_type": "execute_result"
    }
   ],
   "source": [
    "tweet_data[:10]"
   ]
  },
  {
   "cell_type": "code",
   "execution_count": 8,
   "metadata": {},
   "outputs": [],
   "source": [
    "tweet_text = '\\n'.join(tweet_data)"
   ]
  },
  {
   "cell_type": "code",
   "execution_count": 9,
   "metadata": {},
   "outputs": [],
   "source": [
    "vocab = sorted(set(tweet_text))"
   ]
  },
  {
   "cell_type": "code",
   "execution_count": 10,
   "metadata": {},
   "outputs": [],
   "source": [
    "word_to_index = {u:i for i, u in enumerate(vocab)}\n",
    "index_to_word = np.array(vocab)"
   ]
  },
  {
   "cell_type": "code",
   "execution_count": 11,
   "metadata": {},
   "outputs": [
    {
     "name": "stdout",
     "output_type": "stream",
     "text": [
      "[+] 566 Distinct Chars in The Donald's tweets\n"
     ]
    }
   ],
   "source": [
    "word_count = len(index_to_word)\n",
    "print(\n",
    "  f'[+] {word_count} Distinct Chars in The Donald\\'s tweets'\n",
    ")"
   ]
  },
  {
   "cell_type": "code",
   "execution_count": 12,
   "metadata": {},
   "outputs": [
    {
     "name": "stdout",
     "output_type": "stream",
     "text": [
      "[+] Word to Index:\n",
      "{\n",
      "\t\n",
      ": 0\n",
      "\t : 1\n",
      "\t!: 2\n",
      "\t\": 3\n",
      "\t#: 4\n",
      "\t$: 5\n",
      "\t%: 6\n",
      "\t&: 7\n",
      "\t': 8\n",
      "\t(: 9\n",
      "\t): 10\n",
      "\t*: 11\n",
      "\t+: 12\n",
      "\t,: 13\n",
      "\t-: 14\n",
      "\t.: 15\n",
      "\t/: 16\n",
      "\t0: 17\n",
      "\t1: 18\n",
      "\t2: 19\n",
      "...\n",
      "}\n",
      "[+] Index to Word:\n",
      "['\\n' ' ' '!' '\"' '#' '$' '%' '&' \"'\" '(' ')' '*' '+' ',' '-' '.' '/' '0'\n",
      " '1' '2' '3' '4' '5' '6' '7' '8' '9' ':' ';' '=' '?' '@' 'A' 'B' 'C' 'D'\n",
      " 'E' 'F' 'G' 'H' 'I' 'J' 'K' 'L' 'M' 'N' 'O' 'P' 'Q' 'R' 'S' 'T' 'U' 'V'\n",
      " 'W' 'X' 'Y' 'Z' '[' '\\\\' ']' '_' '`' 'a' 'b' 'c' 'd' 'e' 'f' 'g' 'h' 'i'\n",
      " 'j' 'k' 'l' 'm' 'n' 'o' 'p' 'q' 'r' 's' 't' 'u' 'v' 'w' 'x' 'y' 'z' '{'\n",
      " '|' '}' '~' '\\xa0' '«' '¯' '´' '»' 'É' 'á' 'â' 'è' 'é' 'í' 'ï' 'ñ' 'ó'\n",
      " 'ô' 'ø' 'ú' 'ğ' 'ı' 'ĺ' 'ō' 'ד' 'ז' 'ח' 'י' 'ם' 'מ' 'ק' 'ת' 'ا' 'ب' 'ت'\n",
      " 'ج' 'د' 'ر' 'س' 'ش' 'ط' 'ف' 'ق' 'ل' 'م' 'ن' 'ه' 'و' 'چ' 'ژ' 'ک' 'ی' '۰'\n",
      " '۴' 'ễ' '\\u200b' '\\u200d' '–' '—' '―' '‘' '’' '“' '”' '•' '…' '′' '‼'\n",
      " '\\u2066' '\\u2069' '↔' '●' '☀' '☁' '☆' '☉' '☑' '☘' '☞' '☹' '☺' '♂' '♡' '♥'\n",
      " '⚠' '⚡' '⚾' '✅' '✈' '✌' '✔' '✨' '❌' '❤' '➜' '➡' '⬅' '⬇' '、' '。' '々' '《'\n",
      " '「' '」' '【' '】' 'あ' 'い' 'う' 'え' 'お' 'か' 'が' 'き' 'ぎ' 'く' 'け' 'げ' 'こ' 'ご'\n",
      " 'さ' 'ざ' 'し' 'じ' 'す' 'せ' 'そ' 'た' 'だ' 'っ' 'つ' 'て' 'で' 'と' 'な' 'に' 'の' 'は'\n",
      " 'へ' 'ま' 'み' 'め' 'も' 'や' 'よ' 'ら' 'り' 'る' 'れ' 'を' 'ア' 'ィ' 'イ' 'ゴ' 'サ' 'ジ'\n",
      " 'ス' 'セ' 'ゼ' 'ダ' 'チ' 'ッ' 'ツ' 'デ' 'ト' 'ド' 'ナ' 'ニ' 'フ' 'プ' 'ベ' 'ミ' 'メ' 'モ'\n",
      " 'ラ' 'リ' 'ル' 'ロ' 'ン' 'ー' '一' '三' '上' '下' '世' '両' '人' '今' '代' '令' '以' '会'\n",
      " '倍' '共' '典' '出' '初' '到' '功' '励' '勢' '北' '千' '半' '印' '取' '史' '同' '后' '向'\n",
      " '和' '問' '善' '国' '夕' '大' '天' '太' '夫' '安' '密' '対' '尽' '居' '席' '常' '幕' '平'\n",
      " '式' '当' '応' '情' '成' '投' '拉' '揃' '揺' '携' '新' '日' '早' '昨' '時' '更' '最' '朝'\n",
      " '本' '来' '様' '標' '機' '歓' '歴' '洋' '活' '海' '済' '激' '点' '理' '由' '界' '的' '皇'\n",
      " '盟' '目' '相' '着' '示' '祈' '稿' '米' '絆' '経' '統' '続' '緊' '総' '考' '脳' '臨' '自'\n",
      " '至' '致' '艦' '葉' '行' '衛' '要' '見' '訪' '話' '認' '課' '談' '識' '護' '費' '賓' '軍'\n",
      " '迎' '通' '速' '連' '過' '違' '重' '開' '間' '阪' '陛' '隊' '非' '領' '題' '食' '首' '鮮'\n",
      " '고' '국' '는' '대' '라' '렛' '리' '며' '모' '미' '바' '받' '보' '북' '브' '상' '서' '소'\n",
      " '습' '에' '오' '울' '을' '의' '쟁' '전' '정' '초' '측' '핑' '하' '한' '화' '️' '！' '０'\n",
      " '２' 'Ｇ' '🇦' '🇧' '🇨' '🇪' '🇫' '🇬' '🇭' '🇮' '🇯' '🇰' '🇱' '🇲' '🇴' '🇵' '🇷' '🇸'\n",
      " '🇹' '🇺' '🇻' '🇼' '🇽' '🌍' '🌏' '🌺' '🍑' '🎆' '🎈' '🎉' '🎥' '🎧' '🎬' '🎾' '🏁' '🏆'\n",
      " '🏈' '🏛' '🏢' '🏫' '🏻' '🏼' '🏽' '🐶' '👀' '👆' '👈' '👉' '👊' '👋' '👌' '👍' '👎' '👏'\n",
      " '👑' '👔' '👗' '👚' '👢' '👿' '💃' '💔' '💕' '💗' '💘' '💚' '💜' '💤' '💥' '💦' '💨' '💪'\n",
      " '💯' '💰' '📈' '📉' '📱' '📸' '📺' '🔅' '🔟' '🔥' '🔹' '🗽' '😁' '😂' '😃' '😄' '😅' '😆'\n",
      " '😇' '😉' '😊' '😍' '😎' '😒' '😓' '😔' '😘' '😜' '😡' '😢' '😣' '😩' '😬' '😰' '😱' '😳'\n",
      " '😴' '🙋' '🙌' '🙏' '🚀' '🚁' '🚂' '🚒' '🚤' '🚨' '🤔' '🤖' '🦃' '\\U0010fc00']\n"
     ]
    }
   ],
   "source": [
    "def pretty_print_dict(d: dict, length=20):\n",
    "    print('{')\n",
    "    for (index, (k, v)) in zip(range(length), d.items()):\n",
    "        print(f'\\t{k}: {v}')\n",
    "    print('...')\n",
    "    print('}')\n",
    "\n",
    "print('[+] Word to Index:')\n",
    "pretty_print_dict(word_to_index, 20)\n",
    "print(f'[+] Index to Word:')\n",
    "print(index_to_word)"
   ]
  },
  {
   "cell_type": "code",
   "execution_count": 13,
   "metadata": {},
   "outputs": [],
   "source": [
    "text_as_int = np.array([word_to_index[c] for c in tweet_text])"
   ]
  },
  {
   "cell_type": "code",
   "execution_count": 14,
   "metadata": {},
   "outputs": [
    {
     "name": "stdout",
     "output_type": "stream",
     "text": [
      "First 5 Words:\n",
      "WARNING:tensorflow:From /home/das-hund/.conda/envs/notebook/lib/python3.7/site-packages/tensorflow/python/data/ops/iterator_ops.py:532: colocate_with (from tensorflow.python.framework.ops) is deprecated and will be removed in a future version.\n",
      "Instructions for updating:\n",
      "Colocations handled automatically by placer.\n",
      "\"\n",
      "@\n",
      "J\n",
      "a\n",
      "a\n"
     ]
    }
   ],
   "source": [
    "# Here we are just getting the really long sequence into\n",
    "# tf.Dataset object. \n",
    "SEQUENCE_LENGTH = 140\n",
    "examples_per_epoch = len(tweet_text) // SEQUENCE_LENGTH\n",
    "\n",
    "sequence_dataset = tf.data.Dataset.from_tensor_slices(text_as_int)\n",
    "print('First 5 Words:')\n",
    "for i in sequence_dataset.take(5):\n",
    "    print(index_to_word[i.numpy()])"
   ]
  },
  {
   "cell_type": "code",
   "execution_count": 15,
   "metadata": {},
   "outputs": [
    {
     "name": "stdout",
     "output_type": "stream",
     "text": [
      "'\"@JaayZen: @realDonaldTrump Thanks Donald. Now run for president! Fulfill your purpose! \"To much is given, much is required\"\\n\"@teamconquerca:'\n",
      "' First time in the\"Trump International Hotel and Tower\" and it\\'s absolutely gorgeous!! Thank-You sir! Excellent hospitality\\n\"@AngelaTN777: @g'\n",
      "'ochico @realDonaldTrump: He STANDS UP for what he believes in!! regardless if all people like it. #Hasmyrespect&amp;Vote\"\\n\"@JaayZen: @grandmi'\n",
      "'apens He has all the ingredients to get elected and turn this this ship around! Run! Don\\'t let us hit the iceberg!\"\\n\"@MarcAardvark: @realDona'\n",
      "'ldTrump @ronmeier123 One of the best things I bought in 2014: @realDonaldTrump ties @Macys @amazon\"\\n\"@PaulParmar1: @realDonaldTrump so excite'\n"
     ]
    }
   ],
   "source": [
    "sequences = sequence_dataset.batch(SEQUENCE_LENGTH + 1, drop_remainder=True)\n",
    "\n",
    "\n",
    "for item in sequences.take(5):\n",
    "    print(repr(''.join(index_to_word[item.numpy()])))"
   ]
  },
  {
   "cell_type": "code",
   "execution_count": 16,
   "metadata": {},
   "outputs": [],
   "source": [
    "def split_input_target(chunk):\n",
    "    input_text = chunk[:-1]\n",
    "    target_text = chunk[1:]\n",
    "    return input_text, target_text\n",
    "\n",
    "dataset = sequences.map(split_input_target)"
   ]
  },
  {
   "cell_type": "code",
   "execution_count": 17,
   "metadata": {},
   "outputs": [],
   "source": [
    "def sequence_as_text(indices):\n",
    "    words = []\n",
    "    for index in indices:\n",
    "        if index == END_INTEGER:\n",
    "            words.append('.')\n",
    "        else:\n",
    "            words.append(index_to_word[index])\n",
    "    return ' '.join(words)"
   ]
  },
  {
   "cell_type": "code",
   "execution_count": 18,
   "metadata": {},
   "outputs": [
    {
     "name": "stdout",
     "output_type": "stream",
     "text": [
      "Input data:  '\"@JaayZen: @realDonaldTrump Thanks Donald. Now run for president! Fulfill your purpose! \"To much is given, much is required\"\\n\"@teamconquerca'\n",
      "Target data: '@JaayZen: @realDonaldTrump Thanks Donald. Now run for president! Fulfill your purpose! \"To much is given, much is required\"\\n\"@teamconquerca:'\n"
     ]
    }
   ],
   "source": [
    "for input_example, target_example in dataset.take(1):\n",
    "    print('Input data: ', repr(''.join(index_to_word[input_example.numpy()])))\n",
    "    print('Target data:', repr(''.join(index_to_word[target_example.numpy()])))"
   ]
  },
  {
   "cell_type": "code",
   "execution_count": 19,
   "metadata": {},
   "outputs": [
    {
     "name": "stdout",
     "output_type": "stream",
     "text": [
      "[+] Examples Per Epoch: 15897\n",
      "[+] Steps Per Epoch: 248\n",
      "[+] Batch Size: 64\n"
     ]
    },
    {
     "data": {
      "text/plain": [
       "<DatasetV1Adapter shapes: ((64, 140), (64, 140)), types: (tf.int64, tf.int64)>"
      ]
     },
     "execution_count": 19,
     "metadata": {},
     "output_type": "execute_result"
    }
   ],
   "source": [
    "BATCH_SIZE = 64\n",
    "steps_per_epoch = examples_per_epoch // BATCH_SIZE\n",
    "\n",
    "dataset = dataset.shuffle(buffer_size=10000).batch(\n",
    "    batch_size=BATCH_SIZE, drop_remainder=True\n",
    ")\n",
    "\n",
    "print(f'[+] Examples Per Epoch: {examples_per_epoch}')\n",
    "print(f'[+] Steps Per Epoch: {steps_per_epoch}')\n",
    "print(f'[+] Batch Size: {BATCH_SIZE}')\n",
    "dataset"
   ]
  },
  {
   "cell_type": "code",
   "execution_count": 20,
   "metadata": {},
   "outputs": [],
   "source": [
    "RNN_UNITS = 1024\n",
    "EMBEDDING_DIM = 256"
   ]
  },
  {
   "cell_type": "code",
   "execution_count": 21,
   "metadata": {},
   "outputs": [],
   "source": [
    "# We are using the Keras stateful LSTM. With the statefull\n",
    "# LSTM, the the last state for each sample at index i in a \n",
    "# batch will be used as initial state for the sample of\n",
    "# index i in the following batch.\n",
    "def build_model(vocab_size: int, embed_dim: int, \n",
    "                rnn_units: int, batch_size: int):\n",
    "    model = tf.keras.Sequential()\n",
    "    model.add(tf.keras.layers.Embedding(\n",
    "        vocab_size, embed_dim,\n",
    "        batch_input_shape=[batch_size, None],\n",
    "        name='embedding'\n",
    "    ))\n",
    "    model.add(tf.keras.layers.CuDNNLSTM(\n",
    "        rnn_units, return_sequences=True,\n",
    "        recurrent_initializer='glorot_uniform',\n",
    "        stateful=True, name='lstm_one'\n",
    "    ))\n",
    "    model.add(tf.keras.layers.CuDNNLSTM(\n",
    "        rnn_units, return_sequences=True,\n",
    "        recurrent_initializer='glorot_uniform',\n",
    "        stateful=True, name='lstm_two'\n",
    "    ))\n",
    "    model.add(tf.keras.layers.Dense(\n",
    "        vocab_size, name='dense_out'\n",
    "    ))\n",
    "    return model"
   ]
  },
  {
   "cell_type": "code",
   "execution_count": 22,
   "metadata": {},
   "outputs": [],
   "source": [
    "model = build_model(\n",
    "  vocab_size=word_count,\n",
    "  embed_dim=EMBEDDING_DIM, rnn_units=RNN_UNITS, \n",
    "  batch_size=BATCH_SIZE\n",
    ")"
   ]
  },
  {
   "cell_type": "code",
   "execution_count": 23,
   "metadata": {},
   "outputs": [
    {
     "name": "stdout",
     "output_type": "stream",
     "text": [
      "_________________________________________________________________\n",
      "Layer (type)                 Output Shape              Param #   \n",
      "=================================================================\n",
      "embedding (Embedding)        (64, None, 256)           144896    \n",
      "_________________________________________________________________\n",
      "lstm_one (CuDNNLSTM)         (64, None, 1024)          5251072   \n",
      "_________________________________________________________________\n",
      "lstm_two (CuDNNLSTM)         (64, None, 1024)          8396800   \n",
      "_________________________________________________________________\n",
      "dense_out (Dense)            (64, None, 566)           580150    \n",
      "=================================================================\n",
      "Total params: 14,372,918\n",
      "Trainable params: 14,372,918\n",
      "Non-trainable params: 0\n",
      "_________________________________________________________________\n"
     ]
    }
   ],
   "source": [
    "model.summary()"
   ]
  },
  {
   "cell_type": "code",
   "execution_count": 24,
   "metadata": {
    "scrolled": false
   },
   "outputs": [
    {
     "name": "stdout",
     "output_type": "stream",
     "text": [
      "(64, 140, 566) # (batch_size, sequence_length, vocab_size)\n"
     ]
    }
   ],
   "source": [
    "for input_example_batch, target_example_batch in dataset.take(1):\n",
    "    example_batch_predictions = model(input_example_batch)\n",
    "    print(example_batch_predictions.shape, \"# (batch_size, sequence_length, vocab_size)\")"
   ]
  },
  {
   "cell_type": "code",
   "execution_count": 25,
   "metadata": {},
   "outputs": [],
   "source": [
    "sampled_indices = tf.random.categorical(example_batch_predictions[0], num_samples=1)\n",
    "sampled_indices = tf.squeeze(sampled_indices,axis=-1).numpy()"
   ]
  },
  {
   "cell_type": "code",
   "execution_count": 26,
   "metadata": {},
   "outputs": [
    {
     "data": {
      "text/plain": [
       "array([470,  35,  36,  23, 549, 337, 265, 407,  82, 100, 155,   9,  34,\n",
       "       425, 101, 280, 276, 316, 499,  59, 343, 481, 254, 476, 514, 248,\n",
       "       214, 187, 193,  47, 326, 494, 372, 480, 147, 495, 251,  69, 540,\n",
       "       359, 475, 458,  66, 236, 135,  69, 372, 151, 271, 353, 480, 456,\n",
       "       198, 440, 522, 281, 377, 143, 404,  74, 226,  17, 433, 457, 288,\n",
       "       222, 101, 183, 381,  78, 445, 540, 253, 341,  94,  42,  45, 376,\n",
       "        29,  31, 460, 530, 143, 474, 180, 333, 423, 483, 397, 269, 472,\n",
       "       470, 417, 214, 131, 185, 355, 525, 402, 337,  96, 220, 272,  89,\n",
       "       398, 260, 265, 466, 202, 172, 343, 362,  49,  66,  39, 171, 118,\n",
       "       282,  40, 443, 259, 489, 248,  76, 129, 546, 250, 187,  90, 404,\n",
       "       380, 531, 121, 376, 548,  77, 565,  81, 147,  92])"
      ]
     },
     "execution_count": 26,
     "metadata": {},
     "output_type": "execute_result"
    }
   ],
   "source": [
    "sampled_indices"
   ]
  },
  {
   "cell_type": "code",
   "execution_count": 27,
   "metadata": {},
   "outputs": [],
   "source": [
    "def loss(labels, logits):\n",
    "    return tf.keras.losses.sparse_categorical_crossentropy(\n",
    "        labels, logits, from_logits=True\n",
    "    )\n",
    "\n",
    "model.compile(\n",
    "    optimizer=tf.train.AdamOptimizer(),\n",
    "    loss=loss\n",
    ")"
   ]
  },
  {
   "cell_type": "code",
   "execution_count": 28,
   "metadata": {},
   "outputs": [],
   "source": [
    "# Directory where the checkpoints will be saved\n",
    "checkpoint_dir = './training_checkpoints'\n",
    "# Name of the checkpoint files\n",
    "checkpoint_prefix = os.path.join(\n",
    "    checkpoint_dir, 'rnnlm.weights.kla.hdf5'\n",
    ")\n",
    "\n",
    "checkpoint_callback = tf.keras.callbacks.ModelCheckpoint(\n",
    "    filepath=checkpoint_prefix,\n",
    "    save_weights_only=True,\n",
    "    monitor='loss',\n",
    "    verbose=1, save_best_only=True, \n",
    "    mode='min'\n",
    ")"
   ]
  },
  {
   "cell_type": "code",
   "execution_count": 29,
   "metadata": {
    "scrolled": false
   },
   "outputs": [
    {
     "name": "stdout",
     "output_type": "stream",
     "text": [
      "Epoch 1/34\n",
      "247/248 [============================>.] - ETA: 0s - loss: 2.9538\n",
      "Epoch 00001: loss improved from inf to 2.95118, saving model to ./training_checkpoints/rnnlm.weights.kla.hdf5\n",
      "248/248 [==============================] - 37s 148ms/step - loss: 2.9512\n",
      "Epoch 2/34\n",
      "247/248 [============================>.] - ETA: 0s - loss: 1.9938\n",
      "Epoch 00002: loss improved from 2.95118 to 1.99286, saving model to ./training_checkpoints/rnnlm.weights.kla.hdf5\n",
      "248/248 [==============================] - 36s 144ms/step - loss: 1.9929\n",
      "Epoch 3/34\n",
      "247/248 [============================>.] - ETA: 0s - loss: 1.6297\n",
      "Epoch 00003: loss improved from 1.99286 to 1.62947, saving model to ./training_checkpoints/rnnlm.weights.kla.hdf5\n",
      "248/248 [==============================] - 36s 145ms/step - loss: 1.6295\n",
      "Epoch 4/34\n",
      "247/248 [============================>.] - ETA: 0s - loss: 1.4727\n",
      "Epoch 00004: loss improved from 1.62947 to 1.47232, saving model to ./training_checkpoints/rnnlm.weights.kla.hdf5\n",
      "248/248 [==============================] - 36s 145ms/step - loss: 1.4723\n",
      "Epoch 5/34\n",
      "247/248 [============================>.] - ETA: 0s - loss: 1.3849\n",
      "Epoch 00005: loss improved from 1.47232 to 1.38474, saving model to ./training_checkpoints/rnnlm.weights.kla.hdf5\n",
      "248/248 [==============================] - 36s 145ms/step - loss: 1.3847\n",
      "Epoch 6/34\n",
      "247/248 [============================>.] - ETA: 0s - loss: 1.3224\n",
      "Epoch 00006: loss improved from 1.38474 to 1.32212, saving model to ./training_checkpoints/rnnlm.weights.kla.hdf5\n",
      "248/248 [==============================] - 36s 145ms/step - loss: 1.3221\n",
      "Epoch 7/34\n",
      "247/248 [============================>.] - ETA: 0s - loss: 1.2747\n",
      "Epoch 00007: loss improved from 1.32212 to 1.27448, saving model to ./training_checkpoints/rnnlm.weights.kla.hdf5\n",
      "248/248 [==============================] - 36s 145ms/step - loss: 1.2745\n",
      "Epoch 8/34\n",
      "247/248 [============================>.] - ETA: 0s - loss: 1.2328\n",
      "Epoch 00008: loss improved from 1.27448 to 1.23283, saving model to ./training_checkpoints/rnnlm.weights.kla.hdf5\n",
      "248/248 [==============================] - 36s 145ms/step - loss: 1.2328\n",
      "Epoch 9/34\n",
      "247/248 [============================>.] - ETA: 0s - loss: 1.1966\n",
      "Epoch 00009: loss improved from 1.23283 to 1.19639, saving model to ./training_checkpoints/rnnlm.weights.kla.hdf5\n",
      "248/248 [==============================] - 36s 146ms/step - loss: 1.1964\n",
      "Epoch 10/34\n",
      "247/248 [============================>.] - ETA: 0s - loss: 1.1621\n",
      "Epoch 00010: loss improved from 1.19639 to 1.16199, saving model to ./training_checkpoints/rnnlm.weights.kla.hdf5\n",
      "248/248 [==============================] - 36s 145ms/step - loss: 1.1620\n",
      "Epoch 11/34\n",
      "247/248 [============================>.] - ETA: 0s - loss: 1.1284\n",
      "Epoch 00011: loss improved from 1.16199 to 1.12825, saving model to ./training_checkpoints/rnnlm.weights.kla.hdf5\n",
      "248/248 [==============================] - 36s 146ms/step - loss: 1.1282\n",
      "Epoch 12/34\n",
      "247/248 [============================>.] - ETA: 0s - loss: 1.0987\n",
      "Epoch 00012: loss improved from 1.12825 to 1.09863, saving model to ./training_checkpoints/rnnlm.weights.kla.hdf5\n",
      "248/248 [==============================] - 36s 145ms/step - loss: 1.0986\n",
      "Epoch 13/34\n",
      "247/248 [============================>.] - ETA: 0s - loss: 1.0687\n",
      "Epoch 00013: loss improved from 1.09863 to 1.06839, saving model to ./training_checkpoints/rnnlm.weights.kla.hdf5\n",
      "248/248 [==============================] - 36s 146ms/step - loss: 1.0684\n",
      "Epoch 14/34\n",
      "247/248 [============================>.] - ETA: 0s - loss: 1.0385\n",
      "Epoch 00014: loss improved from 1.06839 to 1.03828, saving model to ./training_checkpoints/rnnlm.weights.kla.hdf5\n",
      "248/248 [==============================] - 36s 145ms/step - loss: 1.0383\n",
      "Epoch 15/34\n",
      "247/248 [============================>.] - ETA: 0s - loss: 1.0104\n",
      "Epoch 00015: loss improved from 1.03828 to 1.01024, saving model to ./training_checkpoints/rnnlm.weights.kla.hdf5\n",
      "248/248 [==============================] - 36s 146ms/step - loss: 1.0102\n",
      "Epoch 16/34\n",
      "247/248 [============================>.] - ETA: 0s - loss: 0.9806\n",
      "Epoch 00016: loss improved from 1.01024 to 0.98052, saving model to ./training_checkpoints/rnnlm.weights.kla.hdf5\n",
      "248/248 [==============================] - 36s 145ms/step - loss: 0.9805\n",
      "Epoch 17/34\n",
      "247/248 [============================>.] - ETA: 0s - loss: 0.9533\n",
      "Epoch 00017: loss improved from 0.98052 to 0.95304, saving model to ./training_checkpoints/rnnlm.weights.kla.hdf5\n",
      "248/248 [==============================] - 36s 145ms/step - loss: 0.9530\n",
      "Epoch 18/34\n",
      "247/248 [============================>.] - ETA: 0s - loss: 0.9257\n",
      "Epoch 00018: loss improved from 0.95304 to 0.92549, saving model to ./training_checkpoints/rnnlm.weights.kla.hdf5\n",
      "248/248 [==============================] - 36s 146ms/step - loss: 0.9255\n",
      "Epoch 19/34\n",
      "247/248 [============================>.] - ETA: 0s - loss: 0.8974\n",
      "Epoch 00019: loss improved from 0.92549 to 0.89730, saving model to ./training_checkpoints/rnnlm.weights.kla.hdf5\n",
      "248/248 [==============================] - 36s 145ms/step - loss: 0.8973\n",
      "Epoch 20/34\n",
      "247/248 [============================>.] - ETA: 0s - loss: 0.8712\n",
      "Epoch 00020: loss improved from 0.89730 to 0.87104, saving model to ./training_checkpoints/rnnlm.weights.kla.hdf5\n",
      "248/248 [==============================] - 36s 146ms/step - loss: 0.8710\n",
      "Epoch 21/34\n",
      "247/248 [============================>.] - ETA: 0s - loss: 0.8453\n",
      "Epoch 00021: loss improved from 0.87104 to 0.84507, saving model to ./training_checkpoints/rnnlm.weights.kla.hdf5\n",
      "248/248 [==============================] - 36s 145ms/step - loss: 0.8451\n",
      "Epoch 22/34\n",
      "247/248 [============================>.] - ETA: 0s - loss: 0.8182\n",
      "Epoch 00022: loss improved from 0.84507 to 0.81808, saving model to ./training_checkpoints/rnnlm.weights.kla.hdf5\n",
      "248/248 [==============================] - 36s 146ms/step - loss: 0.8181\n",
      "Epoch 23/34\n",
      "247/248 [============================>.] - ETA: 0s - loss: 0.7928\n",
      "Epoch 00023: loss improved from 0.81808 to 0.79265, saving model to ./training_checkpoints/rnnlm.weights.kla.hdf5\n",
      "248/248 [==============================] - 36s 145ms/step - loss: 0.7926\n",
      "Epoch 24/34\n",
      "247/248 [============================>.] - ETA: 0s - loss: 0.7676\n",
      "Epoch 00024: loss improved from 0.79265 to 0.76745, saving model to ./training_checkpoints/rnnlm.weights.kla.hdf5\n",
      "248/248 [==============================] - 36s 146ms/step - loss: 0.7674\n",
      "Epoch 25/34\n",
      "247/248 [============================>.] - ETA: 0s - loss: 0.7441\n",
      "Epoch 00025: loss improved from 0.76745 to 0.74395, saving model to ./training_checkpoints/rnnlm.weights.kla.hdf5\n",
      "248/248 [==============================] - 36s 146ms/step - loss: 0.7440\n",
      "Epoch 26/34\n",
      "247/248 [============================>.] - ETA: 0s - loss: 0.7202\n",
      "Epoch 00026: loss improved from 0.74395 to 0.71994, saving model to ./training_checkpoints/rnnlm.weights.kla.hdf5\n",
      "248/248 [==============================] - 36s 145ms/step - loss: 0.7199\n",
      "Epoch 27/34\n",
      "247/248 [============================>.] - ETA: 0s - loss: 0.6981\n",
      "Epoch 00027: loss improved from 0.71994 to 0.69794, saving model to ./training_checkpoints/rnnlm.weights.kla.hdf5\n",
      "248/248 [==============================] - 36s 145ms/step - loss: 0.6979\n",
      "Epoch 28/34\n",
      "247/248 [============================>.] - ETA: 0s - loss: 0.6749\n",
      "Epoch 00028: loss improved from 0.69794 to 0.67468, saving model to ./training_checkpoints/rnnlm.weights.kla.hdf5\n",
      "248/248 [==============================] - 36s 146ms/step - loss: 0.6747\n",
      "Epoch 29/34\n",
      "247/248 [============================>.] - ETA: 0s - loss: 0.6539\n",
      "Epoch 00029: loss improved from 0.67468 to 0.65374, saving model to ./training_checkpoints/rnnlm.weights.kla.hdf5\n",
      "248/248 [==============================] - 36s 146ms/step - loss: 0.6537\n",
      "Epoch 30/34\n",
      "247/248 [============================>.] - ETA: 0s - loss: 0.6323\n",
      "Epoch 00030: loss improved from 0.65374 to 0.63213, saving model to ./training_checkpoints/rnnlm.weights.kla.hdf5\n",
      "248/248 [==============================] - 36s 145ms/step - loss: 0.6321\n",
      "Epoch 31/34\n",
      "247/248 [============================>.] - ETA: 0s - loss: 0.6141\n",
      "Epoch 00031: loss improved from 0.63213 to 0.61403, saving model to ./training_checkpoints/rnnlm.weights.kla.hdf5\n",
      "248/248 [==============================] - 36s 145ms/step - loss: 0.6140\n"
     ]
    },
    {
     "name": "stdout",
     "output_type": "stream",
     "text": [
      "Epoch 32/34\n",
      "247/248 [============================>.] - ETA: 0s - loss: 0.5945\n",
      "Epoch 00032: loss improved from 0.61403 to 0.59440, saving model to ./training_checkpoints/rnnlm.weights.kla.hdf5\n",
      "248/248 [==============================] - 36s 145ms/step - loss: 0.5944\n",
      "Epoch 33/34\n",
      "247/248 [============================>.] - ETA: 0s - loss: 0.5779\n",
      "Epoch 00033: loss improved from 0.59440 to 0.57772, saving model to ./training_checkpoints/rnnlm.weights.kla.hdf5\n",
      "248/248 [==============================] - 36s 145ms/step - loss: 0.5777\n",
      "Epoch 34/34\n",
      "247/248 [============================>.] - ETA: 0s - loss: 0.5600\n",
      "Epoch 00034: loss improved from 0.57772 to 0.55993, saving model to ./training_checkpoints/rnnlm.weights.kla.hdf5\n",
      "248/248 [==============================] - 36s 146ms/step - loss: 0.5599\n"
     ]
    }
   ],
   "source": [
    "EPOCHS = 34\n",
    "\n",
    "FIT_MODEL = True\n",
    "\n",
    "if FIT_MODEL:\n",
    "    history = model.fit(\n",
    "        dataset.repeat(), epochs=EPOCHS, \n",
    "        steps_per_epoch=steps_per_epoch, callbacks=[checkpoint_callback]\n",
    "    )"
   ]
  },
  {
   "cell_type": "code",
   "execution_count": 30,
   "metadata": {},
   "outputs": [],
   "source": [
    "model = build_model(\n",
    "  vocab_size=word_count,\n",
    "  embed_dim=EMBEDDING_DIM, rnn_units=RNN_UNITS, \n",
    "  batch_size=1\n",
    ")\n",
    "model.load_weights(checkpoint_prefix)\n",
    "model.build(tf.TensorShape([1, None]))"
   ]
  },
  {
   "cell_type": "code",
   "execution_count": 31,
   "metadata": {},
   "outputs": [
    {
     "name": "stderr",
     "output_type": "stream",
     "text": [
      "Using TensorFlow backend.\n"
     ]
    },
    {
     "data": {
      "image/png": "[encoded data removed]",
      "text/plain": [
       "<IPython.core.display.Image object>"
      ]
     },
     "execution_count": 31,
     "metadata": {
      "image/png": {
       "height": 251,
       "width": 216
      }
     },
     "output_type": "execute_result"
    }
   ],
   "source": [
    "from keras.utils import plot_model\n",
    "from IPython.display import Image\n",
    "plot_model(model, show_shapes=True, show_layer_names=True, to_file='rnnlm.png')\n",
    "Image(retina=True, filename='rnnlm.png')"
   ]
  },
  {
   "cell_type": "code",
   "execution_count": 49,
   "metadata": {},
   "outputs": [],
   "source": [
    "def generate_text(model, start_string):\n",
    "    # Evaluation step (generating text using the learned model)\n",
    "\n",
    "    # Number of characters to generate\n",
    "    num_generate = 1000\n",
    "\n",
    "    # Converting our start string to numbers (vectorizing)\n",
    "    input_eval = [word_to_index[s] for s in start_string]\n",
    "    input_eval = tf.expand_dims(input_eval, 0)\n",
    "\n",
    "    # Empty string to store our results\n",
    "    text_generated = []\n",
    "\n",
    "    # Low temperatures results in more predictable text.\n",
    "    # Higher temperatures results in more surprising text.\n",
    "    # Experiment to find the best setting.\n",
    "    temperature = 0.5\n",
    "\n",
    "    # Here batch size == 1\n",
    "    model.reset_states()\n",
    "    for i in range(num_generate):\n",
    "        predictions = model(input_eval)\n",
    "        # remove the batch dimension\n",
    "        predictions = tf.squeeze(predictions, 0)\n",
    "\n",
    "        # using a multinomial distribution to predict the word returned by the model\n",
    "        predictions = predictions / temperature\n",
    "        predicted_id = tf.multinomial(predictions, num_samples=1)[-1,0].numpy()\n",
    "\n",
    "        # We pass the predicted word as the next input to the model\n",
    "        # along with the previous hidden state\n",
    "        input_eval = tf.expand_dims([predicted_id], 0)\n",
    "\n",
    "        text_generated.append(index_to_word[predicted_id])\n",
    "\n",
    "    return (start_string + ''.join(text_generated))"
   ]
  },
  {
   "cell_type": "code",
   "execution_count": 51,
   "metadata": {
    "scrolled": false
   },
   "outputs": [
    {
     "name": "stdout",
     "output_type": "stream",
     "text": [
      "Very good at the DNC but why did the Democrats would disagree. We are all proud of you @TrumpGolf!\n",
      "\n",
      "Why is @realDonaldTrump on @oreillyfactor tonight at 8:00 P.M. Enjoy!\n",
      "Join me in Cincinnati, Ohio for a really big stand for the Middle Class &amp; burning #POTUS. The election is over and out of our great Secretary of State. Th… \n",
      ".....results on behalf of our GREAT Veterans! We really need you Mr. Trump!! You gave us Hope!!\"\n",
      "\"@jonierx51: @realDonaldTrump @Robostop10 @politico The #CelebrityApprentice is back! Looks like a tough guy. At this country needs!!!\"\n",
      "\"@TheReal001: @MiamiHerald @realDonaldTrump We need you in that office!! #Trump2016 #MakeAmericaGreatAgain\n",
      "Thank you Nevada, North Carolina! We are going to MAKE AMERICA GREAT AGAIN!  TRUMP AN AMERICAN ENERGY PLAN\n",
      "#MakeAmericaGreatAgain #Trump2016 \n",
      "Will be interviewed by @SeanHannity on @FoxNews at 10:00 A.M. He will be a great Senator!\n",
      "Jeb Bush Administer of Colorado Springs at The Wall Street Journal: “This is the horrible attack in New Ham\n"
     ]
    }
   ],
   "source": [
    "print(generate_text(model, start_string=u\"Very good \"))"
   ]
  },
  {
   "cell_type": "markdown",
   "metadata": {},
   "source": [
    "Seed: \"Tariffs \"\n",
    "\n",
    "    \n",
    "Tariffs being setured. \n",
    "\n",
    "“TRUMP RESPONSE TO TRUMP THE NATION - THANK YOU for your service to the Republican Party - which is waiting for the record crowd. Make your work count.\n",
    "Entrepreneurs: Don't tread water. Give it to them.  I’m sure the Democrats will nominate for Trump\"\n",
    "\"@morg25016893:  @foxandfriends @kilmeade @realDonaldTrump @ApprenticeNBC I LOVE THIS SHOW👍❤️‼️\"\n",
    "\"@WSJPolitics: .@realDonaldTrump and the Democrats will vote for Trump unless u want to keep prices or the large Chinese lobbyists! \n",
    "\"@thegrahama1: @realDonaldTrump We need you in the white house. You are the best\"\n",
    "\"@kingkript: @realDonaldTrump @oreillyfactor @FoxNews I have always knew that if I was pouring into ISIS in the Senate, and I send our country if you read this was fact checked by @megynkelly and hearing him so far this country!\n",
    "\"@MichaelEntrekin: @realDonaldTrump @russiannavyblog @Joe3957 @jwil444 @DNorrell @greta @StateDept @FoxNews The statement put out this morning. Discussed many billions of dollars a year, agr"
   ]
  },
  {
   "cell_type": "markdown",
   "metadata": {},
   "source": [
    "Seed: \"Hillary \"\n",
    "\n",
    "\n",
    "Hillary is self-funding.\n",
    "Congratulations to @FoxNews for coming to the United States of America! I will see you soon for a great time in D.C. Now achieve the U.S. and Crime, the Manufacturing Council, leaked the other candidates.\n",
    "Republicans must stop respect to the White House to watch the Fake News until the U.S.A., a big step in the moves th… \n",
    "RT @FLOTUS: Helping children across the countries of the Christopher Steele, will listen right to happen for bad and orst very soon after interviewing out of the U.S. should look to our Great Veterans! We raised $6,000,000.00 while Secretary of State, Hillary Clinton, on the pa… \n",
    "“Iran wants to take far absolute and to be there - and the solution, not the process of final approach o… \n",
    "This is a very big deal, especially in terms of celebrities in our country, have stronger than anyone can imagine what an amazing progress!\n",
    "I am all of the product in U.S. history, &amp; much more than ever before!\n",
    "The big Caravan of People only seized politicians would "
   ]
  },
  {
   "cell_type": "markdown",
   "metadata": {},
   "source": [
    "**Start String:** Hillary Clinton\n",
    "    \n",
    "\n",
    "Hillary Clinton and her cronies. Let's Make America Great Again! \n",
    "I'm with YOU. I will work hard and never let you down. Make America Great Again!\n",
    "Needed Record Setting Attorney General Christie and the Russians, the Chinese of the Border in any candidate, and I will spend more the subject way of intelligence into the… \n",
    "I will be interviewed on @foxandfriends this morning. So many people are sick of deadly appreciated.\n",
    "Thank you @FLGovScott. \n",
    "Dishonest reports that “former FBI lawyer told him so badly full Pardon of the Year. This is… \n",
    "\n",
    "\n",
    "Thank you @Morning_Joe for throwing the all-time Rep. Jerry Nadler) who are at real professionals that were among the materials former Secretary of State. The silent majority is back and we will MAKE AMERICA GREAT AGAIN!\n",
    "\"@LikeAndrewive call the people of Michigan. I am proud to stand with you on this Mind!\n",
    "Join me in Pittsburgh- tomorrow at 7:30pm! #Trump2016 #MakeAmericaGreatAgain\n",
    "\n",
    "\n",
    "\"@MrMet41: @realDonaldTrump @ApprenticeNBC I want a better candidate. Donald Trump has"
   ]
  },
  {
   "cell_type": "markdown",
   "metadata": {},
   "source": [
    "**Start String:** Great reception\n",
    "    \n",
    "Great reception in North Korea. Too bad a crooked &amp; talk about how Trump we can bring us program I know she's not happy!\n",
    "\n",
    "\n",
    "The phony story in the debate was it that the City is ill-prepared to wrat you did a great job sounds nothing and he is out of control. This is a mess. More freezulent committee for Trump. The Democrats are over. We need him in defense, career, Christopher Steele, a… \n",
    "\n",
    "\n",
    "The U.S. Consumer Confidence hits highest level since 2000.\n",
    ".@MediaBuzzFNC- thank you for your intelligence of reason. They were caught red regardless of any… \n",
    "A Democratic National Convention #1 on the campaign trail by presidential candidates concerning healthcare. They ma… \n",
    "\n",
    "\n",
    "Thank you to Chairman Kim. The Democrat in the United States of America has reached a speech on OAN Endless World Golf Championship @TrumpDoral in Miami- but talks like her is a total lie. U.S. made up story. A true War.\"\n",
    "\"@jsilva74366572: @realDonaldTrump @meetthepress this country can't be bought Democrats to admit it to stop the massive in"
   ]
  },
  {
   "cell_type": "code",
   "execution_count": null,
   "metadata": {},
   "outputs": [],
   "source": []
  }
 ],
 "metadata": {
  "kernelspec": {
   "display_name": "Python 3",
   "language": "python",
   "name": "python3"
  },
  "language_info": {
   "codemirror_mode": {
    "name": "ipython",
    "version": 3
   },
   "file_extension": ".py",
   "mimetype": "text/x-python",
   "name": "python",
   "nbconvert_exporter": "python",
   "pygments_lexer": "ipython3",
   "version": "3.7.3"
  }
 },
 "nbformat": 4,
 "nbformat_minor": 2
}
